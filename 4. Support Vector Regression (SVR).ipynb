{
 "cells": [
  {
   "cell_type": "markdown",
   "metadata": {},
   "source": [
    "# Support Vector Regression (SVR) - By Foivos Gaitantzis"
   ]
  },
  {
   "cell_type": "markdown",
   "metadata": {},
   "source": [
    "#### This section of the program is dedicated to fitting all the features post processing to a Support Vector Regression (SVR) Algorithm. An initial model is built using random hyperparametes. The hyperparameter values are then tweaked and a final model is built and evaluated. "
   ]
  },
  {
   "cell_type": "markdown",
   "metadata": {},
   "source": [
    "### Load the Libraries"
   ]
  },
  {
   "cell_type": "code",
   "execution_count": 1,
   "metadata": {},
   "outputs": [],
   "source": [
    "%matplotlib inline\n",
    "import matplotlib.pyplot as plt\n",
    "import pandas as pd\n",
    "import numpy as np\n",
    "import math\n",
    "from sklearn.svm import SVR\n",
    "from sklearn.preprocessing import StandardScaler\n",
    "from sklearn.metrics import mean_squared_error\n",
    "from sklearn.model_selection import train_test_split"
   ]
  },
  {
   "cell_type": "markdown",
   "metadata": {},
   "source": [
    "### Define the Feature Engineering/Machine Learning Parameters & Utility Functions"
   ]
  },
  {
   "cell_type": "code",
   "execution_count": 2,
   "metadata": {},
   "outputs": [],
   "source": [
    "#Set the filename\n",
    "filename = 'aapl'\n",
    "\n",
    "#Set the Default Columns, Timestep (Previous Historical Data to Use for Predictions) & Polynomial Degree\n",
    "Columns = ['Adj Close', 'compoundFT', 'compoundNYTimes', 'compoundBS', 'Volume', 'RSI', 'MACD']\n",
    "timestep = 3\n",
    "kernel = 'rbf'\n",
    "C = 10\n",
    "gamma = 0.001\n",
    "epsilon = 0.01"
   ]
  },
  {
   "cell_type": "code",
   "execution_count": 3,
   "metadata": {},
   "outputs": [],
   "source": [
    "#Utility function to compute the mean absolute percentage error\n",
    "def mean_absolute_percentage_error(y_true, y_pred): \n",
    "    y_true, y_pred = np.array(y_true), np.array(y_pred)\n",
    "    return np.mean(np.abs((y_true-y_pred)/y_true))*100"
   ]
  },
  {
   "cell_type": "markdown",
   "metadata": {},
   "source": [
    "### Load the Data File & Perform Model Feature Engineering"
   ]
  },
  {
   "cell_type": "code",
   "execution_count": 4,
   "metadata": {},
   "outputs": [
    {
     "data": {
      "text/html": [
       "<div>\n",
       "<style scoped>\n",
       "    .dataframe tbody tr th:only-of-type {\n",
       "        vertical-align: middle;\n",
       "    }\n",
       "\n",
       "    .dataframe tbody tr th {\n",
       "        vertical-align: top;\n",
       "    }\n",
       "\n",
       "    .dataframe thead th {\n",
       "        text-align: right;\n",
       "    }\n",
       "</style>\n",
       "<table border=\"1\" class=\"dataframe\">\n",
       "  <thead>\n",
       "    <tr style=\"text-align: right;\">\n",
       "      <th></th>\n",
       "      <th>Date</th>\n",
       "      <th>compoundFT</th>\n",
       "      <th>compoundNYTimes</th>\n",
       "      <th>compoundBS</th>\n",
       "      <th>Close</th>\n",
       "      <th>Volume</th>\n",
       "      <th>Adj Close</th>\n",
       "      <th>RSI</th>\n",
       "      <th>MACD</th>\n",
       "      <th>Predicted Adj Close</th>\n",
       "      <th>Adj Close0</th>\n",
       "      <th>Adj Close1</th>\n",
       "      <th>Adj Close2</th>\n",
       "    </tr>\n",
       "  </thead>\n",
       "  <tbody>\n",
       "    <tr>\n",
       "      <th>7</th>\n",
       "      <td>2016-01-08</td>\n",
       "      <td>0.203480</td>\n",
       "      <td>0.043943</td>\n",
       "      <td>0.137486</td>\n",
       "      <td>96.959999</td>\n",
       "      <td>7.079800e+07</td>\n",
       "      <td>90.391907</td>\n",
       "      <td>14.668720</td>\n",
       "      <td>-0.370537</td>\n",
       "      <td>90.879794</td>\n",
       "      <td>90.391907</td>\n",
       "      <td>89.916473</td>\n",
       "      <td>93.878586</td>\n",
       "    </tr>\n",
       "    <tr>\n",
       "      <th>8</th>\n",
       "      <td>2016-01-09</td>\n",
       "      <td>0.377325</td>\n",
       "      <td>-0.008900</td>\n",
       "      <td>0.104625</td>\n",
       "      <td>97.483332</td>\n",
       "      <td>6.377847e+07</td>\n",
       "      <td>90.879794</td>\n",
       "      <td>14.832344</td>\n",
       "      <td>-0.384101</td>\n",
       "      <td>91.367681</td>\n",
       "      <td>90.879794</td>\n",
       "      <td>90.391907</td>\n",
       "      <td>89.916473</td>\n",
       "    </tr>\n",
       "    <tr>\n",
       "      <th>9</th>\n",
       "      <td>2016-01-10</td>\n",
       "      <td>0.515333</td>\n",
       "      <td>0.271481</td>\n",
       "      <td>0.135400</td>\n",
       "      <td>98.006666</td>\n",
       "      <td>5.675893e+07</td>\n",
       "      <td>91.367681</td>\n",
       "      <td>14.886746</td>\n",
       "      <td>-0.364081</td>\n",
       "      <td>91.855568</td>\n",
       "      <td>91.367681</td>\n",
       "      <td>90.879794</td>\n",
       "      <td>90.391907</td>\n",
       "    </tr>\n",
       "    <tr>\n",
       "      <th>10</th>\n",
       "      <td>2016-01-11</td>\n",
       "      <td>0.233810</td>\n",
       "      <td>0.375018</td>\n",
       "      <td>0.179233</td>\n",
       "      <td>98.529999</td>\n",
       "      <td>4.973940e+07</td>\n",
       "      <td>91.855568</td>\n",
       "      <td>14.913921</td>\n",
       "      <td>-0.321599</td>\n",
       "      <td>93.188705</td>\n",
       "      <td>91.855568</td>\n",
       "      <td>91.367681</td>\n",
       "      <td>90.879794</td>\n",
       "    </tr>\n",
       "    <tr>\n",
       "      <th>11</th>\n",
       "      <td>2016-01-12</td>\n",
       "      <td>0.155050</td>\n",
       "      <td>0.201992</td>\n",
       "      <td>0.397150</td>\n",
       "      <td>99.959999</td>\n",
       "      <td>4.915420e+07</td>\n",
       "      <td>93.188705</td>\n",
       "      <td>19.135019</td>\n",
       "      <td>-0.221146</td>\n",
       "      <td>90.792793</td>\n",
       "      <td>93.188705</td>\n",
       "      <td>91.855568</td>\n",
       "      <td>91.367681</td>\n",
       "    </tr>\n",
       "  </tbody>\n",
       "</table>\n",
       "</div>"
      ],
      "text/plain": [
       "         Date  compoundFT  compoundNYTimes  compoundBS      Close  \\\n",
       "7  2016-01-08    0.203480         0.043943    0.137486  96.959999   \n",
       "8  2016-01-09    0.377325        -0.008900    0.104625  97.483332   \n",
       "9  2016-01-10    0.515333         0.271481    0.135400  98.006666   \n",
       "10 2016-01-11    0.233810         0.375018    0.179233  98.529999   \n",
       "11 2016-01-12    0.155050         0.201992    0.397150  99.959999   \n",
       "\n",
       "          Volume  Adj Close        RSI      MACD  Predicted Adj Close  \\\n",
       "7   7.079800e+07  90.391907  14.668720 -0.370537            90.879794   \n",
       "8   6.377847e+07  90.879794  14.832344 -0.384101            91.367681   \n",
       "9   5.675893e+07  91.367681  14.886746 -0.364081            91.855568   \n",
       "10  4.973940e+07  91.855568  14.913921 -0.321599            93.188705   \n",
       "11  4.915420e+07  93.188705  19.135019 -0.221146            90.792793   \n",
       "\n",
       "    Adj Close0  Adj Close1  Adj Close2  \n",
       "7    90.391907   89.916473   93.878586  \n",
       "8    90.879794   90.391907   89.916473  \n",
       "9    91.367681   90.879794   90.391907  \n",
       "10   91.855568   91.367681   90.879794  \n",
       "11   93.188705   91.855568   91.367681  "
      ]
     },
     "execution_count": 4,
     "metadata": {},
     "output_type": "execute_result"
    }
   ],
   "source": [
    "#Load the Daily Stock Data\n",
    "Data = pd.read_csv('files/'+filename+'_Stock_Data_Full.csv')\n",
    "\n",
    "#Set the Date Column Type to Datetime\n",
    "Data['Date'] = pd.to_datetime(Data['Date'], format='%Y-%m-%d')\n",
    "\n",
    "#Create copies of the Data for Modification\n",
    "Data_Edit = Data.copy()\n",
    "Columns_Edit = Columns.copy()\n",
    "\n",
    "#Create new to columns of Historical Data according to the timestep\n",
    "for step in range(timestep):\n",
    "    Columns_Edit.append('Adj Close'+str(step))\n",
    "    Data_Edit['Adj Close'+str(step)] = Data_Edit['Adj Close']\n",
    "    Data_Edit['Adj Close'+str(step)] = Data_Edit['Adj Close'+str(step)].shift(step)\n",
    "\n",
    "#Remove all NaN values in Adj Close, Adj Close(0 - timestep), Predicted Adj Close, RSI and MACD\n",
    "Data_Edit.dropna(inplace = True)\n",
    "\n",
    "#Display the first 5 rows of the Modified Data Set\n",
    "Data_Edit.head()"
   ]
  },
  {
   "cell_type": "code",
   "execution_count": 5,
   "metadata": {},
   "outputs": [],
   "source": [
    "#Split the Data into Training and Testing (Train: 80% & Testing: 20%)\n",
    "train, test = train_test_split(Data_Edit, train_size = 0.8, test_size = 0.2, shuffle = False)\n",
    "\n",
    "#Initiate two Scalers: one for the inputs & one for the output\n",
    "ScalerX = StandardScaler()\n",
    "\n",
    "#Seperate the train & test dataset into their inputs and output & perform scaling\n",
    "x_train = ScalerX.fit_transform(train[Columns_Edit])\n",
    "y_train = train[['Predicted Adj Close']]\n",
    "x_test = ScalerX.transform(test[Columns_Edit])\n",
    "y_test = test[['Predicted Adj Close']]"
   ]
  },
  {
   "cell_type": "markdown",
   "metadata": {},
   "source": [
    "### Run the Primary Linear Regression Model using Default Parameters"
   ]
  },
  {
   "cell_type": "code",
   "execution_count": 6,
   "metadata": {
    "scrolled": false
   },
   "outputs": [
    {
     "name": "stdout",
     "output_type": "stream",
     "text": [
      "Accuracy: 0.9518983750475427\n",
      "RMSE: 4.451149471156836\n",
      "MAPE: 1.7946575415493036\n"
     ]
    },
    {
     "data": {
      "text/html": [
       "<div>\n",
       "<style scoped>\n",
       "    .dataframe tbody tr th:only-of-type {\n",
       "        vertical-align: middle;\n",
       "    }\n",
       "\n",
       "    .dataframe tbody tr th {\n",
       "        vertical-align: top;\n",
       "    }\n",
       "\n",
       "    .dataframe thead th {\n",
       "        text-align: right;\n",
       "    }\n",
       "</style>\n",
       "<table border=\"1\" class=\"dataframe\">\n",
       "  <thead>\n",
       "    <tr style=\"text-align: right;\">\n",
       "      <th></th>\n",
       "      <th>Date</th>\n",
       "      <th>Actual Value</th>\n",
       "      <th>Prediction</th>\n",
       "    </tr>\n",
       "  </thead>\n",
       "  <tbody>\n",
       "    <tr>\n",
       "      <th>877</th>\n",
       "      <td>2018-05-27</td>\n",
       "      <td>183.560894</td>\n",
       "      <td>182.492356</td>\n",
       "    </tr>\n",
       "    <tr>\n",
       "      <th>878</th>\n",
       "      <td>2018-05-28</td>\n",
       "      <td>183.394974</td>\n",
       "      <td>182.553582</td>\n",
       "    </tr>\n",
       "    <tr>\n",
       "      <th>879</th>\n",
       "      <td>2018-05-29</td>\n",
       "      <td>183.004562</td>\n",
       "      <td>182.201591</td>\n",
       "    </tr>\n",
       "    <tr>\n",
       "      <th>880</th>\n",
       "      <td>2018-05-30</td>\n",
       "      <td>182.389633</td>\n",
       "      <td>182.137535</td>\n",
       "    </tr>\n",
       "    <tr>\n",
       "      <th>881</th>\n",
       "      <td>2018-05-31</td>\n",
       "      <td>185.678833</td>\n",
       "      <td>181.417537</td>\n",
       "    </tr>\n",
       "  </tbody>\n",
       "</table>\n",
       "</div>"
      ],
      "text/plain": [
       "          Date  Actual Value  Prediction\n",
       "877 2018-05-27    183.560894  182.492356\n",
       "878 2018-05-28    183.394974  182.553582\n",
       "879 2018-05-29    183.004562  182.201591\n",
       "880 2018-05-30    182.389633  182.137535\n",
       "881 2018-05-31    185.678833  181.417537"
      ]
     },
     "execution_count": 6,
     "metadata": {},
     "output_type": "execute_result"
    }
   ],
   "source": [
    "#Initialize the Model\n",
    "Model = SVR(kernel='rbf', C=C, epsilon=epsilon, gamma=gamma, coef0=0.1, shrinking=True, \n",
    "            tol=0.001, cache_size=200, verbose=False, max_iter=-1)\n",
    "\n",
    "#Fit the Training Inputs and Output into the Model\n",
    "Model.fit(x_train, np.array(y_train).ravel())\n",
    "\n",
    "#Using the Test Inputs, Predict Values for Output\n",
    "Prediction = Model.predict(x_test)\n",
    "\n",
    "#Calculate the Root Mean Squared Error & the Mean Absolute Percentage Error\n",
    "RMSE = math.sqrt(mean_squared_error(test['Predicted Adj Close'], Prediction))\n",
    "MAPE = mean_absolute_percentage_error(test['Predicted Adj Close'], Prediction)\n",
    "\n",
    "#Print the values of Accuracy, RMSE & MAPE\n",
    "print(\"Accuracy: \"+str(Model.score(x_test, np.array(y_test).ravel())))\n",
    "print(\"RMSE: \"+str(RMSE))\n",
    "print(\"MAPE: \"+str(MAPE))\n",
    "\n",
    "#Create a Dataframe that stores the Date, the Actual Stock Value and the Predicted Stock Value\n",
    "Prediction = pd.DataFrame({'Date': test['Date'], 'Actual Value': test['Predicted Adj Close'], 'Prediction': Prediction})\n",
    "\n",
    "#Display the first 5 rows of this Dataframe\n",
    "Prediction.head()"
   ]
  },
  {
   "cell_type": "markdown",
   "metadata": {},
   "source": [
    "### Display Primary Model Predictions vs Actual Values"
   ]
  },
  {
   "cell_type": "code",
   "execution_count": 7,
   "metadata": {},
   "outputs": [
    {
     "data": {
      "image/png": "[encoded data removed]",
      "text/plain": [
       "<Figure size 1008x360 with 1 Axes>"
      ]
     },
     "metadata": {
      "needs_background": "light"
     },
     "output_type": "display_data"
    }
   ],
   "source": [
    "#Display a line graph of the Actual vs Predicted Values\n",
    "plt.rcParams['figure.figsize'] = 14, 5 \n",
    "AX = Prediction.plot(x='Date', y='Actual Value', style='g-', grid=True)\n",
    "AX = Prediction.plot(x='Date', y='Prediction', style='r-', grid=True, ax=AX)\n",
    "AX.legend(['Actual Value', 'Predicted Value'])\n",
    "AX.set_xlabel(\"Date\")\n",
    "AX.set_ylabel(\"USD\")\n",
    "plt.show()"
   ]
  },
  {
   "cell_type": "markdown",
   "metadata": {},
   "source": [
    "### Calculate the Optimal Columns Type"
   ]
  },
  {
   "cell_type": "code",
   "execution_count": 8,
   "metadata": {},
   "outputs": [
    {
     "name": "stdout",
     "output_type": "stream",
     "text": [
      "Optimal Parameter (Based on RMSE): Just Historical Stock Data, RMSE: 32.419575397505255\n"
     ]
    },
    {
     "data": {
      "text/html": [
       "<div>\n",
       "<style scoped>\n",
       "    .dataframe tbody tr th:only-of-type {\n",
       "        vertical-align: middle;\n",
       "    }\n",
       "\n",
       "    .dataframe tbody tr th {\n",
       "        vertical-align: top;\n",
       "    }\n",
       "\n",
       "    .dataframe thead th {\n",
       "        text-align: right;\n",
       "    }\n",
       "</style>\n",
       "<table border=\"1\" class=\"dataframe\">\n",
       "  <thead>\n",
       "    <tr style=\"text-align: right;\">\n",
       "      <th></th>\n",
       "      <th>RMSE</th>\n",
       "      <th>MAPE</th>\n",
       "    </tr>\n",
       "    <tr>\n",
       "      <th>Columns Type</th>\n",
       "      <th></th>\n",
       "      <th></th>\n",
       "    </tr>\n",
       "  </thead>\n",
       "  <tbody>\n",
       "    <tr>\n",
       "      <th>Just Historical Stock Data</th>\n",
       "      <td>32.419575</td>\n",
       "      <td>15.522962</td>\n",
       "    </tr>\n",
       "    <tr>\n",
       "      <th>Technical Analysis</th>\n",
       "      <td>33.063145</td>\n",
       "      <td>16.109405</td>\n",
       "    </tr>\n",
       "    <tr>\n",
       "      <th>Sentiment Analysis</th>\n",
       "      <td>33.386732</td>\n",
       "      <td>16.027677</td>\n",
       "    </tr>\n",
       "    <tr>\n",
       "      <th>Technical &amp; Sentiment Analysis</th>\n",
       "      <td>34.440524</td>\n",
       "      <td>16.849070</td>\n",
       "    </tr>\n",
       "  </tbody>\n",
       "</table>\n",
       "</div>"
      ],
      "text/plain": [
       "                                     RMSE       MAPE\n",
       "Columns Type                                        \n",
       "Just Historical Stock Data      32.419575  15.522962\n",
       "Technical Analysis              33.063145  16.109405\n",
       "Sentiment Analysis              33.386732  16.027677\n",
       "Technical & Sentiment Analysis  34.440524  16.849070"
      ]
     },
     "execution_count": 8,
     "metadata": {},
     "output_type": "execute_result"
    }
   ],
   "source": [
    "columns_list = [['Adj Close', 'Volume'], ['Adj Close', 'Volume', 'RSI', 'MACD'], ['Adj Close', 'Volume', 'compoundFT', 'compoundNYTimes'], Columns]\n",
    "columns_headers = ['Just Historical Stock Data', 'Technical Analysis', 'Sentiment Analysis', 'Technical & Sentiment Analysis']\n",
    "\n",
    "columns_errors = {'Columns' : [], 'Columns Type' : [], 'RMSE' : [], 'MAPE' : []}\n",
    "i = 0\n",
    "\n",
    "for column in columns_list:   \n",
    "    \n",
    "    Data_Edit = Data.copy()\n",
    "    for step in range(timestep):\n",
    "        Columns_Edit.append('Adj Close'+str(step))\n",
    "        Data_Edit['Adj Close'+str(step)] = Data_Edit['Adj Close']\n",
    "        Data_Edit['Adj Close'+str(step)] = Data_Edit['Adj Close'+str(step)].shift(step)\n",
    "    \n",
    "    #Remove all NaN values in Adj Close, Adj Close(0 - timestep), Predicted Adj Close, RSI and MACD\n",
    "    Data_Edit.dropna(inplace = True)\n",
    "    \n",
    "    #Split the Data into Training and Testing (Train: 80% & Testing: 20%)\n",
    "    train, test = train_test_split(Data_Edit, train_size = 0.8, test_size = 0.2, shuffle = False)\n",
    "\n",
    "    #Initiate two Scalers: one for the inputs & one for the output\n",
    "    ScalerX = StandardScaler()\n",
    "\n",
    "    #Seperate the train & test dataset into their inputs and output & perform scaling\n",
    "    x_train = ScalerX.fit_transform(train[column])\n",
    "    y_train = train[['Predicted Adj Close']]\n",
    "    x_test = ScalerX.transform(test[column])\n",
    "    y_test = test[['Predicted Adj Close']]\n",
    "    \n",
    "    #Initialize the Model\n",
    "    Model = SVR(kernel='rbf', C=C, epsilon=epsilon, gamma=gamma, coef0=0.1, shrinking=True, \n",
    "                tol=0.001, cache_size=200, verbose=False, max_iter=-1)\n",
    "\n",
    "    #Fit the Training Inputs and Output into the Model\n",
    "    Model.fit(x_train, np.array(y_train).ravel())\n",
    "    \n",
    "    #Using the Test Inputs, Predict Values for Output\n",
    "    Prediction = Model.predict(x_test)\n",
    "\n",
    "    #Print the values of Accuracy, RMSE & MAPE\n",
    "    RMSE = math.sqrt(mean_squared_error(test['Predicted Adj Close'], Prediction))\n",
    "    MAPE = mean_absolute_percentage_error(test['Predicted Adj Close'], Prediction)\n",
    "    \n",
    "    #Input the Columns, Columns Type & Errors to the Dataframe\n",
    "    columns_errors['Columns'].append(column)\n",
    "    columns_errors['Columns Type'].append(columns_headers[i])\n",
    "    columns_errors['RMSE'].append(RMSE)\n",
    "    columns_errors['MAPE'].append(MAPE)\n",
    "    \n",
    "    i+=1\n",
    "    \n",
    "columns_errors = pd.DataFrame(columns_errors)\n",
    "                              \n",
    "#Set the Data Column as Index Column\n",
    "columns_errors = columns_errors.set_index('Columns Type')\n",
    "\n",
    "#Print the Optimal Columns Type\n",
    "OptimalParameter = columns_errors[columns_errors['RMSE'] == columns_errors['RMSE'].min()]\n",
    "Columns = OptimalParameter['Columns'].values[0]\n",
    "print(\"Optimal Parameter (Based on RMSE): \"+str(OptimalParameter.index.values[0])+\", RMSE: \"+str(OptimalParameter['RMSE'].values[0]))\n",
    "\n",
    "#Show each Columns Type and Error Associated\n",
    "columns_errors[['RMSE', 'MAPE']].head()"
   ]
  },
  {
   "cell_type": "markdown",
   "metadata": {},
   "source": [
    "### Calculate the Optimal Timestep"
   ]
  },
  {
   "cell_type": "code",
   "execution_count": 9,
   "metadata": {},
   "outputs": [
    {
     "data": {
      "image/png": "[encoded data removed]",
      "text/plain": [
       "<Figure size 936x216 with 1 Axes>"
      ]
     },
     "metadata": {
      "needs_background": "light"
     },
     "output_type": "display_data"
    },
    {
     "name": "stdout",
     "output_type": "stream",
     "text": [
      "Optimal Parameter (Based on RMSE): 3, RMSE: 4.222332960808433\n"
     ]
    }
   ],
   "source": [
    "timestep_list = range(3, 35)\n",
    "\n",
    "timestep_errors = {'Timestep' : [], 'RMSE' : [], 'MAPE' : []}\n",
    "\n",
    "for step in timestep_list:   \n",
    "    \n",
    "    Columns_Edit = Columns.copy()\n",
    "    Data_Edit = Data.copy()\n",
    "    for step_update in range(step):\n",
    "        Columns_Edit.append('Adj Close'+str(step_update))\n",
    "        Data_Edit['Adj Close'+str(step_update)] = Data_Edit['Adj Close']\n",
    "        Data_Edit['Adj Close'+str(step_update)] = Data_Edit['Adj Close'+str(step_update)].shift(step_update)\n",
    "\n",
    "    #Remove all NaN values in Adj Close, Adj Close(0 - timestep), Predicted Adj Close, RSI and MACD\n",
    "    Data_Edit.dropna(inplace = True)\n",
    "    \n",
    "    #Split the Data into Training and Testing (Train: 80% & Testing: 20%)\n",
    "    train, test = train_test_split(Data_Edit, train_size = 0.8, test_size = 0.2, shuffle = False)\n",
    "\n",
    "    #Initiate two Scalers: one for the inputs & one for the output\n",
    "    ScalerX = StandardScaler()\n",
    "\n",
    "    #Seperate the train & test dataset into their inputs and output & perform scaling\n",
    "    x_train = ScalerX.fit_transform(train[Columns_Edit])\n",
    "    y_train = train[['Predicted Adj Close']]\n",
    "    x_test = ScalerX.transform(test[Columns_Edit])\n",
    "    y_test = test[['Predicted Adj Close']]\n",
    "    \n",
    "    #Initialize the Model\n",
    "    Model = SVR(kernel='rbf', C=C, epsilon=epsilon, gamma=gamma, coef0=0.1, shrinking=True, \n",
    "                tol=0.001, cache_size=200, verbose=False, max_iter=-1)\n",
    "\n",
    "    #Fit the Training Inputs and Output into the Model\n",
    "    Model.fit(x_train, np.array(y_train).ravel())\n",
    "    \n",
    "    #Using the Test Inputs, Predict Values for Output\n",
    "    Prediction = Model.predict(x_test)\n",
    "\n",
    "    #Print the values of Accuracy, RMSE & MAPE\n",
    "    RMSE = math.sqrt(mean_squared_error(test['Predicted Adj Close'], Prediction))\n",
    "    MAPE = mean_absolute_percentage_error(test['Predicted Adj Close'], Prediction)\n",
    "    \n",
    "    #Input the Timestep & Errors to the Dataframe\n",
    "    timestep_errors['Timestep'].append(step)\n",
    "    timestep_errors['RMSE'].append(RMSE)\n",
    "    timestep_errors['MAPE'].append(MAPE)\n",
    "    \n",
    "timestep_errors = pd.DataFrame(timestep_errors)\n",
    "\n",
    "#Plot the Errors against the Timestep\n",
    "plt.rcParams['figure.figsize'] = 13, 3 \n",
    "AX = timestep_errors.plot(x='Timestep', y='RMSE', style='bx-', grid=True)\n",
    "AX = timestep_errors.plot(x='Timestep', y='MAPE', style='rx-', grid=True, ax=AX)\n",
    "AX.set_xlabel(\"Timestep Value (Days)\")\n",
    "AX.set_ylabel(\"RMSE / MAPE(%)\")\n",
    "plt.show()\n",
    "\n",
    "#Print the Optimal Timestep and Set it to the Default\n",
    "OptimalParameter = timestep_errors[timestep_errors['RMSE'] == timestep_errors['RMSE'].min()]\n",
    "timestep = OptimalParameter['Timestep'].values[0]\n",
    "print(\"Optimal Parameter (Based on RMSE): \"+str(OptimalParameter['Timestep'].values[0])+\", RMSE: \"+str(OptimalParameter['RMSE'].values[0]))"
   ]
  },
  {
   "cell_type": "markdown",
   "metadata": {},
   "source": [
    "### Calculate the Optimal C and Gamma parameters"
   ]
  },
  {
   "cell_type": "code",
   "execution_count": 12,
   "metadata": {
    "scrolled": true
   },
   "outputs": [
    {
     "data": {
      "image/png": "[encoded data removed]",
      "text/plain": [
       "<Figure size 504x360 with 1 Axes>"
      ]
     },
     "metadata": {
      "needs_background": "light"
     },
     "output_type": "display_data"
    },
    {
     "name": "stdout",
     "output_type": "stream",
     "text": [
      "Optimal Parameter (Based on RMSE) -> C: 200, Gamma: 0.0001, RMSE: 5.021739551774435\n"
     ]
    }
   ],
   "source": [
    "C_list = [10, 50, 100, 200]\n",
    "gamma_list = [0.0001, 0.001, 0.005, 0.1, 0.5, 1]\n",
    "\n",
    "errors = {'C' : [], 'Gamma': [], 'RMSE' : [], 'MAPE' : []}\n",
    "\n",
    "for unit_c in C_list:\n",
    "    for unit_gamma in gamma_list:\n",
    "\n",
    "        Columns_Edit = Columns.copy()\n",
    "        Data_Edit = Data.copy()\n",
    "        for step_update in range(step):\n",
    "            Columns_Edit.append('Adj Close'+str(step_update))\n",
    "            Data_Edit['Adj Close'+str(step_update)] = Data_Edit['Adj Close']\n",
    "            Data_Edit['Adj Close'+str(step_update)] = Data_Edit['Adj Close'+str(step_update)].shift(step_update)\n",
    "\n",
    "        #Remove all NaN values in Adj Close, Adj Close(0 - timestep), Predicted Adj Close, RSI and MACD\n",
    "        Data_Edit.dropna(inplace = True)\n",
    "\n",
    "        #Split the Data into Training and Testing (Train: 80% & Testing: 20%)\n",
    "        train, test = train_test_split(Data_Edit, train_size = 0.8, test_size = 0.2, shuffle = False)\n",
    "\n",
    "        #Initiate two Scalers: one for the inputs & one for the output\n",
    "        ScalerX = StandardScaler()\n",
    "\n",
    "        #Seperate the train & test dataset into their inputs and output & perform scaling\n",
    "        x_train = ScalerX.fit_transform(train[Columns_Edit])\n",
    "        y_train = train[['Predicted Adj Close']]\n",
    "        x_test = ScalerX.transform(test[Columns_Edit])\n",
    "        y_test = test[['Predicted Adj Close']]\n",
    "\n",
    "        #Initialize the Model\n",
    "        Model = SVR(kernel='rbf', C=unit_c, epsilon=epsilon, gamma=unit_gamma, coef0=0.1, shrinking=True, \n",
    "                    tol=0.001, cache_size=200, verbose=False, max_iter=-1)\n",
    "\n",
    "        #Fit the Training Inputs and Output into the Model\n",
    "        Model.fit(x_train, np.array(y_train).ravel())\n",
    "\n",
    "        #Using the Test Inputs, Predict Values for Output\n",
    "        Prediction = Model.predict(x_test)\n",
    "\n",
    "        #Print the values of Accuracy, RMSE & MAPE\n",
    "        RMSE = math.sqrt(mean_squared_error(test['Predicted Adj Close'], Prediction))\n",
    "        MAPE = mean_absolute_percentage_error(test['Predicted Adj Close'], Prediction)\n",
    "    \n",
    "\n",
    "        #Input the Epochs, Batch Size & Errors to the Dataframe\n",
    "        errors['C'].append(unit_c)\n",
    "        errors['Gamma'].append(unit_gamma)\n",
    "        errors['RMSE'].append(RMSE)\n",
    "        errors['MAPE'].append(MAPE)\n",
    "    \n",
    "errors = pd.DataFrame(errors)\n",
    "\n",
    "#Plot the Errors against the Timestep\n",
    "legend_list = []\n",
    "plt.rcParams['figure.figsize'] = 7, 5 \n",
    "error = errors[errors['C'] == C_list[0]]\n",
    "AX = error.plot(x='Gamma', y='RMSE', marker='s', grid=True)\n",
    "legend_list.append(\"C: \"+str(C_list[0]))\n",
    "\n",
    "for i in range(1, len(C_list)):\n",
    "    error = errors[errors['C'] == C_list[i]]\n",
    "    AX = error.plot(x='Gamma', y='RMSE', marker='s', grid=True, ax=AX)\n",
    "    legend_list.append(\"C: \"+str(C_list[i]))\n",
    "    \n",
    "AX.set_xlabel(\"Gamma\")\n",
    "AX.set_ylabel(\"RMSE\")\n",
    "plt.legend(legend_list)\n",
    "plt.show()\n",
    "\n",
    "#Print the Optimal Timestep and Set it to the Default\n",
    "OptimalParameter = errors[errors['RMSE'] == errors['RMSE'].min()]\n",
    "C = OptimalParameter['C'].values[0]\n",
    "gamma = OptimalParameter['Gamma'].values[0]\n",
    "print(\"Optimal Parameter (Based on RMSE) -> C: \"+str(OptimalParameter['C'].values[0])+\", Gamma: \"+str(OptimalParameter['Gamma'].values[0])+\", RMSE: \"+str(OptimalParameter['RMSE'].values[0]))"
   ]
  },
  {
   "cell_type": "markdown",
   "metadata": {},
   "source": [
    "### Calculate the Optimal Epsilon Parameter"
   ]
  },
  {
   "cell_type": "code",
   "execution_count": 13,
   "metadata": {},
   "outputs": [
    {
     "data": {
      "image/png": "[encoded data removed]",
      "text/plain": [
       "<Figure size 936x216 with 1 Axes>"
      ]
     },
     "metadata": {
      "needs_background": "light"
     },
     "output_type": "display_data"
    },
    {
     "name": "stdout",
     "output_type": "stream",
     "text": [
      "Optimal Parameter (Based on RMSE): 0.01, RMSE: 3.237954532331737\n"
     ]
    }
   ],
   "source": [
    "epsilon_list = [0.0001, 0.0005, 0.001, 0.005, 0.01, 0.05]\n",
    "\n",
    "epsilon_errors = {'Epsilon' : [], 'RMSE' : [], 'MAPE' : []}\n",
    "\n",
    "for eps in epsilon_list:   \n",
    "    \n",
    "    Columns_Edit = Columns.copy()\n",
    "    Data_Edit = Data.copy()\n",
    "    for step_update in range(timestep):\n",
    "        Columns_Edit.append('Adj Close'+str(step_update))\n",
    "        Data_Edit['Adj Close'+str(step_update)] = Data_Edit['Adj Close']\n",
    "        Data_Edit['Adj Close'+str(step_update)] = Data_Edit['Adj Close'+str(step_update)].shift(step_update)\n",
    "\n",
    "    #Remove all NaN values in Adj Close, Adj Close(0 - timestep), Predicted Adj Close, RSI and MACD\n",
    "    Data_Edit.dropna(inplace = True)\n",
    "    \n",
    "    #Split the Data into Training and Testing (Train: 80% & Testing: 20%)\n",
    "    train, test = train_test_split(Data_Edit, train_size = 0.8, test_size = 0.2, shuffle = False)\n",
    "\n",
    "    #Initiate two Scalers: one for the inputs & one for the output\n",
    "    ScalerX = StandardScaler()\n",
    "\n",
    "    #Seperate the train & test dataset into their inputs and output & perform scaling\n",
    "    x_train = ScalerX.fit_transform(train[Columns_Edit])\n",
    "    y_train = train[['Predicted Adj Close']]\n",
    "    x_test = ScalerX.transform(test[Columns_Edit])\n",
    "    y_test = test[['Predicted Adj Close']]\n",
    "    \n",
    "    #Initialize the Model\n",
    "    Model = SVR(kernel='rbf', C=C, epsilon=eps, gamma=gamma, coef0=0.1, shrinking=True, \n",
    "                tol=0.001, cache_size=200, verbose=False, max_iter=-1)\n",
    "\n",
    "    #Fit the Training Inputs and Output into the Model\n",
    "    Model.fit(x_train, np.array(y_train).ravel())\n",
    "    \n",
    "    #Using the Test Inputs, Predict Values for Output\n",
    "    Prediction = Model.predict(x_test)\n",
    "\n",
    "    #Print the values of Accuracy, RMSE & MAPE\n",
    "    RMSE = math.sqrt(mean_squared_error(test['Predicted Adj Close'], Prediction))\n",
    "    MAPE = mean_absolute_percentage_error(test['Predicted Adj Close'], Prediction)\n",
    "    \n",
    "    #Input the Timestep & Errors to the Dataframe\n",
    "    epsilon_errors['Epsilon'].append(eps)\n",
    "    epsilon_errors['RMSE'].append(RMSE)\n",
    "    epsilon_errors['MAPE'].append(MAPE)\n",
    "    \n",
    "epsilon_errors = pd.DataFrame(epsilon_errors)\n",
    "\n",
    "#Plot the Errors against the Timestep\n",
    "plt.rcParams['figure.figsize'] = 13, 3 \n",
    "AX = epsilon_errors.plot(x='Epsilon', y='RMSE', style='bx-', grid=True)\n",
    "AX = epsilon_errors.plot(x='Epsilon', y='MAPE', style='rx-', grid=True, ax=AX)\n",
    "AX.set_xlabel(\"Epsilon\")\n",
    "AX.set_ylabel(\"RMSE / MAPE(%)\")\n",
    "plt.show()\n",
    "\n",
    "#Print the Optimal Timestep and Set it to the Default\n",
    "OptimalParameter = epsilon_errors[epsilon_errors['RMSE'] == epsilon_errors['RMSE'].min()]\n",
    "epsilon = OptimalParameter['Epsilon'].values[0]\n",
    "print(\"Optimal Parameter (Based on RMSE): \"+str(OptimalParameter['Epsilon'].values[0])+\", RMSE: \"+str(OptimalParameter['RMSE'].values[0]))"
   ]
  },
  {
   "cell_type": "markdown",
   "metadata": {},
   "source": [
    "### Calculate the Optimal Kernel "
   ]
  },
  {
   "cell_type": "code",
   "execution_count": 14,
   "metadata": {},
   "outputs": [
    {
     "data": {
      "image/png": "[encoded data removed]",
      "text/plain": [
       "<Figure size 360x360 with 1 Axes>"
      ]
     },
     "metadata": {
      "needs_background": "light"
     },
     "output_type": "display_data"
    },
    {
     "name": "stdout",
     "output_type": "stream",
     "text": [
      "Optimal Parameter (Based on RMSE): linear, RMSE: 2.783954877225662\n"
     ]
    }
   ],
   "source": [
    "kernel_list = ['rbf', 'poly', 'linear', 'sigmoid']\n",
    "\n",
    "kernel_errors = {'Kernel' : [], 'RMSE' : [], 'MAPE' : []}\n",
    "\n",
    "for ker in kernel_list:   \n",
    "    \n",
    "    Columns_Edit = Columns.copy()\n",
    "    Data_Edit = Data.copy()\n",
    "    for step_update in range(timestep):\n",
    "        Columns_Edit.append('Adj Close'+str(step_update))\n",
    "        Data_Edit['Adj Close'+str(step_update)] = Data_Edit['Adj Close']\n",
    "        Data_Edit['Adj Close'+str(step_update)] = Data_Edit['Adj Close'+str(step_update)].shift(step_update)\n",
    "\n",
    "    #Remove all NaN values in Adj Close, Adj Close(0 - timestep), Predicted Adj Close, RSI and MACD\n",
    "    Data_Edit.dropna(inplace = True)\n",
    "    \n",
    "    #Split the Data into Training and Testing (Train: 80% & Testing: 20%)\n",
    "    train, test = train_test_split(Data_Edit, train_size = 0.8, test_size = 0.2, shuffle = False)\n",
    "\n",
    "    #Initiate two Scalers: one for the inputs & one for the output\n",
    "    ScalerX = StandardScaler()\n",
    "\n",
    "    #Seperate the train & test dataset into their inputs and output & perform scaling\n",
    "    x_train = ScalerX.fit_transform(train[Columns_Edit])\n",
    "    y_train = train[['Predicted Adj Close']]\n",
    "    x_test = ScalerX.transform(test[Columns_Edit])\n",
    "    y_test = test[['Predicted Adj Close']]\n",
    "    \n",
    "    #Initialize the Model\n",
    "    Model = SVR(kernel=ker, C=C, epsilon=epsilon, gamma=gamma, coef0=0.1, shrinking=True, \n",
    "                tol=0.001, cache_size=200, verbose=False, max_iter=-1)\n",
    "\n",
    "    #Fit the Training Inputs and Output into the Model\n",
    "    Model.fit(x_train, np.array(y_train).ravel())\n",
    "    \n",
    "    #Using the Test Inputs, Predict Values for Output\n",
    "    Prediction = Model.predict(x_test)\n",
    "\n",
    "    #Print the values of Accuracy, RMSE & MAPE\n",
    "    RMSE = math.sqrt(mean_squared_error(test['Predicted Adj Close'], Prediction))\n",
    "    MAPE = mean_absolute_percentage_error(test['Predicted Adj Close'], Prediction)\n",
    "    \n",
    "    #Input the Timestep & Errors to the Dataframe\n",
    "    kernel_errors['Kernel'].append(ker)\n",
    "    kernel_errors['RMSE'].append(RMSE)\n",
    "    kernel_errors['MAPE'].append(MAPE)\n",
    "    \n",
    "kernel_errors = pd.DataFrame(kernel_errors)\n",
    "\n",
    "#Plot the Errors against the Timestep\n",
    "plt.rcParams['figure.figsize'] = 5, 5 \n",
    "AX = kernel_errors.plot(x='Kernel', y='RMSE', style='bx-', grid=True)\n",
    "AX = kernel_errors.plot(x='Kernel', y='MAPE', style='rx-', grid=True, ax=AX)\n",
    "AX.set_xlabel(\"Kernel\")\n",
    "AX.set_ylabel(\"RMSE / MAPE(%)\")\n",
    "plt.show()\n",
    "\n",
    "#Print the Optimal Timestep and Set it to the Default\n",
    "OptimalParameter = kernel_errors[kernel_errors['RMSE'] == kernel_errors['RMSE'].min()]\n",
    "kernel = OptimalParameter['Kernel'].values[0]\n",
    "print(\"Optimal Parameter (Based on RMSE): \"+str(OptimalParameter['Kernel'].values[0])+\", RMSE: \"+str(OptimalParameter['RMSE'].values[0]))"
   ]
  },
  {
   "cell_type": "markdown",
   "metadata": {},
   "source": [
    "### Final Model (including Feature Engineering)"
   ]
  },
  {
   "cell_type": "code",
   "execution_count": 15,
   "metadata": {},
   "outputs": [],
   "source": [
    "#Create copies of the Data for Modification\n",
    "Data_Edit = Data.copy()\n",
    "Columns_Edit = Columns.copy()\n",
    "\n",
    "#Create new to columns of Historical Data according to the timestep\n",
    "for step in range(timestep):\n",
    "    Columns_Edit.append('Adj Close'+str(step))\n",
    "    Data_Edit['Adj Close'+str(step)] = Data_Edit['Adj Close']\n",
    "    Data_Edit['Adj Close'+str(step)] = Data_Edit['Adj Close'+str(step)].shift(step)\n",
    "\n",
    "#Remove all NaN values in Adj Close, Adj Close(0 - timestep), Predicted Adj Close, RSI and MACD\n",
    "Data_Edit.dropna(inplace = True)\n",
    "\n",
    "#Split the Data into Training and Testing (Train: 80% & Testing: 20%)\n",
    "train, test = train_test_split(Data_Edit, train_size = 0.8, test_size = 0.2, shuffle = False)\n",
    "\n",
    "#Initiate two Scalers: one for the inputs & one for the output\n",
    "ScalerX = StandardScaler()\n",
    "\n",
    "#Seperate the train & test dataset into their inputs and output & perform scaling\n",
    "x_train = ScalerX.fit_transform(train[Columns_Edit])\n",
    "y_train = train[['Predicted Adj Close']]\n",
    "x_test = ScalerX.transform(test[Columns_Edit])\n",
    "y_test = test[['Predicted Adj Close']]"
   ]
  },
  {
   "cell_type": "code",
   "execution_count": 18,
   "metadata": {
    "scrolled": true
   },
   "outputs": [
    {
     "name": "stdout",
     "output_type": "stream",
     "text": [
      "Accuracy: 0.9811834596979385\n",
      "RMSE: 2.783954877225662\n",
      "MAPE: 0.9227660087711861\n"
     ]
    },
    {
     "data": {
      "text/html": [
       "<div>\n",
       "<style scoped>\n",
       "    .dataframe tbody tr th:only-of-type {\n",
       "        vertical-align: middle;\n",
       "    }\n",
       "\n",
       "    .dataframe tbody tr th {\n",
       "        vertical-align: top;\n",
       "    }\n",
       "\n",
       "    .dataframe thead th {\n",
       "        text-align: right;\n",
       "    }\n",
       "</style>\n",
       "<table border=\"1\" class=\"dataframe\">\n",
       "  <thead>\n",
       "    <tr style=\"text-align: right;\">\n",
       "      <th></th>\n",
       "      <th>Date</th>\n",
       "      <th>Actual Value</th>\n",
       "      <th>Prediction</th>\n",
       "    </tr>\n",
       "  </thead>\n",
       "  <tbody>\n",
       "    <tr>\n",
       "      <th>877</th>\n",
       "      <td>2018-05-27</td>\n",
       "      <td>183.560894</td>\n",
       "      <td>183.668464</td>\n",
       "    </tr>\n",
       "    <tr>\n",
       "      <th>878</th>\n",
       "      <td>2018-05-28</td>\n",
       "      <td>183.394974</td>\n",
       "      <td>183.496350</td>\n",
       "    </tr>\n",
       "    <tr>\n",
       "      <th>879</th>\n",
       "      <td>2018-05-29</td>\n",
       "      <td>183.004562</td>\n",
       "      <td>183.324236</td>\n",
       "    </tr>\n",
       "    <tr>\n",
       "      <th>880</th>\n",
       "      <td>2018-05-30</td>\n",
       "      <td>182.389633</td>\n",
       "      <td>182.927288</td>\n",
       "    </tr>\n",
       "    <tr>\n",
       "      <th>881</th>\n",
       "      <td>2018-05-31</td>\n",
       "      <td>185.678833</td>\n",
       "      <td>182.235056</td>\n",
       "    </tr>\n",
       "  </tbody>\n",
       "</table>\n",
       "</div>"
      ],
      "text/plain": [
       "          Date  Actual Value  Prediction\n",
       "877 2018-05-27    183.560894  183.668464\n",
       "878 2018-05-28    183.394974  183.496350\n",
       "879 2018-05-29    183.004562  183.324236\n",
       "880 2018-05-30    182.389633  182.927288\n",
       "881 2018-05-31    185.678833  182.235056"
      ]
     },
     "execution_count": 18,
     "metadata": {},
     "output_type": "execute_result"
    }
   ],
   "source": [
    "#Initialize the Model\n",
    "Model = SVR(kernel=kernel, C=C, epsilon=epsilon, gamma=gamma, coef0=0.1, shrinking=True, \n",
    "            tol=0.001, cache_size=200, verbose=False, max_iter=-1)\n",
    "\n",
    "#Fit the Training Inputs and Output into the Model\n",
    "Model.fit(x_train, np.array(y_train).ravel())\n",
    "    \n",
    "#Using the Test Inputs, Predict Values for Output\n",
    "Prediction = Model.predict(x_test)\n",
    "\n",
    "#Print the values of Accuracy, RMSE & MAPE\n",
    "RMSE = math.sqrt(mean_squared_error(test['Predicted Adj Close'], Prediction))\n",
    "MAPE = mean_absolute_percentage_error(test['Predicted Adj Close'], Prediction)\n",
    "#Print the values of Accuracy, RMSE & MAPE\n",
    "print(\"Accuracy: \"+str(Model.score(x_test, np.array(y_test).ravel())))\n",
    "print(\"RMSE: \"+str(RMSE))\n",
    "print(\"MAPE: \"+str(MAPE))\n",
    "\n",
    "#Create a Dataframe that stores the Date, the Actual Stock Value and the Predicted Stock Value\n",
    "Prediction = pd.DataFrame({'Date': test['Date'], 'Actual Value': test['Predicted Adj Close'], 'Prediction': Prediction})\n",
    "\n",
    "#Display the first 5 rows of this Dataframe\n",
    "Prediction.head()"
   ]
  },
  {
   "cell_type": "markdown",
   "metadata": {},
   "source": [
    "### Display Final Model Predictions vs Actual Values"
   ]
  },
  {
   "cell_type": "code",
   "execution_count": 19,
   "metadata": {},
   "outputs": [
    {
     "data": {
      "image/png": "[encoded data removed]",
      "text/plain": [
       "<Figure size 1008x360 with 1 Axes>"
      ]
     },
     "metadata": {
      "needs_background": "light"
     },
     "output_type": "display_data"
    }
   ],
   "source": [
    "#Display a line graph of the Actual vs Predicted Values\n",
    "plt.rcParams['figure.figsize'] = 14, 5 \n",
    "AX = Prediction.plot(x='Date', y='Actual Value', style='g-', grid=True)\n",
    "AX = Prediction.plot(x='Date', y='Prediction', style='r-', grid=True, ax=AX)\n",
    "AX.legend(['Actual Value', 'Predicted Value'])\n",
    "AX.set_xlabel(\"Date\")\n",
    "AX.set_ylabel(\"USD\")\n",
    "plt.show()"
   ]
  }
 ],
 "metadata": {
  "kernelspec": {
   "display_name": "Python 3",
   "language": "python",
   "name": "python3"
  },
  "language_info": {
   "codemirror_mode": {
    "name": "ipython",
    "version": 3
   },
   "file_extension": ".py",
   "mimetype": "text/x-python",
   "name": "python",
   "nbconvert_exporter": "python",
   "pygments_lexer": "ipython3",
   "version": "3.7.7"
  }
 },
 "nbformat": 4,
 "nbformat_minor": 2
}
