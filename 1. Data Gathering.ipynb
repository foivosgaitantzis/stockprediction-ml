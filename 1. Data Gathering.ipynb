{
 "cells": [
  {
   "cell_type": "markdown",
   "metadata": {},
   "source": [
    "# Data Gathering - By Foivos Gaitantzis"
   ]
  },
  {
   "cell_type": "markdown",
   "metadata": {},
   "source": [
    "#### This section of the program is dedicated to downloading historical stock data (from Yahoo) and scraping news headlines from three different sources (Business Standard, The Financial Times & The New York Times) for a given datarange. "
   ]
  },
  {
   "cell_type": "markdown",
   "metadata": {},
   "source": [
    "### Load the Libraries"
   ]
  },
  {
   "cell_type": "code",
   "execution_count": 16,
   "metadata": {},
   "outputs": [],
   "source": [
    "%matplotlib inline\n",
    "import matplotlib.pyplot as plt\n",
    "import re\n",
    "import requests\n",
    "import datetime\n",
    "import time\n",
    "import pandas as pd\n",
    "import json\n",
    "import yfinance as yf\n",
    "from bs4 import BeautifulSoup\n",
    "from lxml import etree"
   ]
  },
  {
   "cell_type": "markdown",
   "metadata": {},
   "source": [
    "### Define the Query Parameters & Utility Functions"
   ]
  },
  {
   "cell_type": "code",
   "execution_count": 17,
   "metadata": {},
   "outputs": [],
   "source": [
    "#Add Query Keywords to the List\n",
    "query_list = ['aapl', 'apple+inc']\n",
    "\n",
    "#Add Filter Keywords for Headlines\n",
    "filter_keywords = ['aapl', 'iphone', 'ipad', 'apple', 'app', 'stock', 'aal', 'mac', 'steve']\n",
    "\n",
    "#Set the Start Date\n",
    "start_month = 1\n",
    "start_day = 1\n",
    "start_year = 2016\n",
    "\n",
    "#Set the End Date\n",
    "end_month = 12\n",
    "end_day = 31\n",
    "end_year = 2018\n",
    "\n",
    "#---- New York Times API Parameters ----#\n",
    "\n",
    "#NYTimes API Key\n",
    "API_Key = \"HIDDEN\"\n",
    "\n",
    "#NYTimes Date Interval Count (k)\n",
    "Interval = 10"
   ]
  },
  {
   "cell_type": "code",
   "execution_count": 18,
   "metadata": {},
   "outputs": [],
   "source": [
    "#Get the date range between two dates\n",
    "def daterange(start, end):\n",
    "    for i in range((end - start).days + 1):\n",
    "        yield (start + datetime.timedelta(i))\n",
    "        \n",
    "#Get the date range between two dates for given intervals        \n",
    "def daterangeintv(start, end, intv):\n",
    "    for i in range(intv):\n",
    "        yield (start + (end - start) / intv * i)\n",
    "    yield end\n",
    "        \n",
    "#Define the two dates in datetime format\n",
    "start_date = datetime.date(year = start_year, month = start_month, day = start_day)\n",
    "end_date = datetime.date(year = end_year, month = end_month, day = end_day)\n",
    "\n",
    "#Define the Requests Headers\n",
    "Headers = {'User-Agent': 'Mozilla/5.0 (Macintosh; Intel Mac OS X 10_11_6) AppleWebKit/537.36 (KHTML, like Gecko) Chrome/61.0.3163.100 Safari/537.36'}"
   ]
  },
  {
   "cell_type": "markdown",
   "metadata": {},
   "source": [
    "### Download Historical Stock Data"
   ]
  },
  {
   "cell_type": "code",
   "execution_count": 19,
   "metadata": {
    "scrolled": true
   },
   "outputs": [
    {
     "name": "stdout",
     "output_type": "stream",
     "text": [
      "[*********************100%***********************]  1 of 1 completed\n"
     ]
    },
    {
     "data": {
      "text/html": [
       "<div>\n",
       "<style scoped>\n",
       "    .dataframe tbody tr th:only-of-type {\n",
       "        vertical-align: middle;\n",
       "    }\n",
       "\n",
       "    .dataframe tbody tr th {\n",
       "        vertical-align: top;\n",
       "    }\n",
       "\n",
       "    .dataframe thead th {\n",
       "        text-align: right;\n",
       "    }\n",
       "</style>\n",
       "<table border=\"1\" class=\"dataframe\">\n",
       "  <thead>\n",
       "    <tr style=\"text-align: right;\">\n",
       "      <th></th>\n",
       "      <th>Close</th>\n",
       "      <th>Volume</th>\n",
       "      <th>Adj Close</th>\n",
       "    </tr>\n",
       "    <tr>\n",
       "      <th>Date</th>\n",
       "      <th></th>\n",
       "      <th></th>\n",
       "      <th></th>\n",
       "    </tr>\n",
       "  </thead>\n",
       "  <tbody>\n",
       "    <tr>\n",
       "      <th>2016-01-04</th>\n",
       "      <td>105.349998</td>\n",
       "      <td>67649400</td>\n",
       "      <td>98.213585</td>\n",
       "    </tr>\n",
       "    <tr>\n",
       "      <th>2016-01-05</th>\n",
       "      <td>102.709999</td>\n",
       "      <td>55791000</td>\n",
       "      <td>95.752419</td>\n",
       "    </tr>\n",
       "    <tr>\n",
       "      <th>2016-01-06</th>\n",
       "      <td>100.699997</td>\n",
       "      <td>68457400</td>\n",
       "      <td>93.878586</td>\n",
       "    </tr>\n",
       "    <tr>\n",
       "      <th>2016-01-07</th>\n",
       "      <td>96.449997</td>\n",
       "      <td>81094400</td>\n",
       "      <td>89.916473</td>\n",
       "    </tr>\n",
       "    <tr>\n",
       "      <th>2016-01-08</th>\n",
       "      <td>96.959999</td>\n",
       "      <td>70798000</td>\n",
       "      <td>90.391907</td>\n",
       "    </tr>\n",
       "  </tbody>\n",
       "</table>\n",
       "</div>"
      ],
      "text/plain": [
       "                 Close    Volume  Adj Close\n",
       "Date                                       \n",
       "2016-01-04  105.349998  67649400  98.213585\n",
       "2016-01-05  102.709999  55791000  95.752419\n",
       "2016-01-06  100.699997  68457400  93.878586\n",
       "2016-01-07   96.449997  81094400  89.916473\n",
       "2016-01-08   96.959999  70798000  90.391907"
      ]
     },
     "execution_count": 19,
     "metadata": {},
     "output_type": "execute_result"
    }
   ],
   "source": [
    "# Get the data for the stock AAPL\n",
    "Stock_Data = yf.download('AAPL', start_date, end_date)\n",
    "Stock_Data = Stock_Data[['Close', 'Volume', 'Adj Close']]\n",
    "\n",
    "#Extract the dataframe to a CSV file\n",
    "Stock_Data.to_csv('files/'+query_list[0]+'_Stock_Data.csv')\n",
    "\n",
    "#Display the first 5 rows of the Historical Stock Data\n",
    "Stock_Data.head()"
   ]
  },
  {
   "cell_type": "markdown",
   "metadata": {},
   "source": [
    "### Business Standard News Scraping"
   ]
  },
  {
   "cell_type": "code",
   "execution_count": 20,
   "metadata": {
    "scrolled": true
   },
   "outputs": [],
   "source": [
    "#Prepare the Pandas Dataframe that will host the Business Standard News\n",
    "PD_Headers = pd.DataFrame({'Date': [], 'Headline': []})\n",
    "\n",
    "#Loop through each Date (day-to-day)\n",
    "for Date in daterange(start_date, end_date):\n",
    "    #Loop through each query on the query list\n",
    "    for query in query_list:\n",
    "    \n",
    "        #Define the Business Standard Scraping URL\n",
    "        URL = 'https://www.business-standard.com/advance-search?type=news&c-q=q&q='+query+'&c-range=range&range=bwn_dates&from_date='+Date.strftime(\"%d-%m-20%y\")+'&to_date='+Date.strftime(\"%d-%m-20%y\")\n",
    "\n",
    "        #Request the URL and Retrieve the Headlines\n",
    "        raw_html = requests.get(URL, headers=Headers)\n",
    "        soup = BeautifulSoup(raw_html.text, 'lxml')\n",
    "        raw = soup.find(\"ul\", class_=\"listing\")\n",
    "        headline_list = raw.find_all(\"a\", href=re.compile(\"/article/\"))\n",
    "\n",
    "        #Define the Date & Headline Lists\n",
    "        dates = []\n",
    "        headlines = []\n",
    "\n",
    "        #Loop through each element in the headline list (for that specific query)\n",
    "        for elem in headline_list:\n",
    "            headlines.append(elem.text)\n",
    "                \n",
    "        #Loop through each element in the headline list (for that specific query)\n",
    "        for elem in headline_list:\n",
    "            dates.append(Date)\n",
    "\n",
    "        #Create a new Dataframe that stores the data of this specific query\n",
    "        News = pd.DataFrame({'Date': dates, 'Headline': headlines})\n",
    "        \n",
    "        #Concatanate this dataframe with the one containing ALL Business Standard Headlines\n",
    "        PD_Headers = pd.concat([PD_Headers, News])\n",
    "    \n",
    "#Remove any possible duplicates\n",
    "PD_Headers.drop_duplicates(['Headline'], keep='last')\n",
    "\n",
    "#Filter the Keywords\n",
    "PD_Headers = PD_Headers[PD_Headers['Headline'].str.contains('|'.join(filter_keywords), case=False)]\n",
    "\n",
    "#Extract the dataframe to a CSV file\n",
    "PD_Headers.to_csv('files/'+query_list[0]+'_News_BS.csv')"
   ]
  },
  {
   "cell_type": "markdown",
   "metadata": {},
   "source": [
    "### New York Times News Scraping"
   ]
  },
  {
   "cell_type": "code",
   "execution_count": 21,
   "metadata": {
    "scrolled": false
   },
   "outputs": [],
   "source": [
    "#Create a list of dates using Intervals between start date and end date\n",
    "Datelist = list(daterangeintv(start_date, end_date, Interval))\n",
    "\n",
    "#Prepare the Pandas Dataframe that will host the New York Times News\n",
    "PD_Headers = pd.DataFrame({'Date': [], 'Headline': []})\n",
    "\n",
    "#Utility Function to access API\n",
    "def access_api(query, page, start_date, end_date):\n",
    "    \n",
    "    #CPU sleep for 1s\n",
    "    time.sleep(1)\n",
    "    \n",
    "    #Define the NYTimes Scraping URL\n",
    "    URL = 'http://api.nytimes.com/svc/search/v2/articlesearch.json?q='+query+'&sort=relevance&fq='+query+'&page='+str(page)+'&api-key='+API_Key+'&begin_date='+start_date.strftime(\"%Y%m%d\")+'&end_date='+end_date.strftime(\"%Y%m%d\")\n",
    "    \n",
    "    raw_html = None\n",
    "    content = None\n",
    "    i = 0\n",
    "    \n",
    "    #Attempt to Request page 3 times without getting any errors.\n",
    "    while i<3 and (content is None or raw_html.status_code!=200):\n",
    "        try:\n",
    "            raw_html = requests.get(URL)\n",
    "            data = json.loads(raw_html.content.decode(\"utf-8\"))\n",
    "            content = data[\"response\"]\n",
    "        except ValueError:\n",
    "            raise ValueError\n",
    "        except KeyError:\n",
    "            continue\n",
    "        i += 1\n",
    "    \n",
    "    #Return the page content\n",
    "    return content\n",
    "\n",
    "#Loop through each Date Interval\n",
    "for i in range(1, Interval):\n",
    "    #Loop through each query on the query list\n",
    "    for query in query_list:\n",
    "        \n",
    "        #Define the Date & Headline Lists\n",
    "        dates = []\n",
    "        headlines = []\n",
    "        page = 0\n",
    "        \n",
    "        #Fetch content from API and store in the lists\n",
    "        Data = access_api(query, page, Datelist[i-1], Datelist[i])\n",
    "        while Data[\"meta\"][\"hits\"] > 1000:\n",
    "            Data = access_api(query, page, Datelist[i-1], Datelist[i])\n",
    "        while page * 10 < Data[\"meta\"][\"hits\"] and (page + 1) < 100:\n",
    "            Data = access_api(query, page, Datelist[i-1], Datelist[i])\n",
    "            for doc in Data[\"docs\"]:\n",
    "                headlines.append(doc['headline']['main'])\n",
    "                dates.append(doc['pub_date'][0:10])\n",
    "            page += 1\n",
    "        \n",
    "        #Create a new Dataframe that stores the data of this specific query\n",
    "        News = pd.DataFrame({'Date': dates, 'Headline': headlines})\n",
    "            \n",
    "        #Concatanate this dataframe with the one containing ALL NYTimes News\n",
    "        PD_Headers = pd.concat([PD_Headers, News])\n",
    "        \n",
    "#Remove any possible duplicates\n",
    "PD_Headers.drop_duplicates(['Headline'], keep='last')\n",
    "\n",
    "#Filter the Keywords\n",
    "PD_Headers = PD_Headers[PD_Headers['Headline'].str.contains('|'.join(filter_keywords), case=False)]\n",
    "\n",
    "#Extract the dataframe to a CSV file\n",
    "PD_Headers.to_csv('files/'+query_list[0]+'_News_NYTimes.csv')   "
   ]
  },
  {
   "cell_type": "markdown",
   "metadata": {},
   "source": [
    "### Financial Times News Scraping"
   ]
  },
  {
   "cell_type": "code",
   "execution_count": 22,
   "metadata": {},
   "outputs": [],
   "source": [
    "#Prepare the Pandas Dataframe that will host the Financial Times News\n",
    "PD_Headers = pd.DataFrame({'Date': [], 'Headline': []})\n",
    "\n",
    "#Loop through each Date (day-to-day)\n",
    "for Date in daterange(start_date, end_date):\n",
    "    #Loop through each query on the query list\n",
    "    for query in query_list:\n",
    "        #Loop through the first 3 pages\n",
    "        for page in range(1, 3):\n",
    "    \n",
    "            #Define the Google News Scraping URL\n",
    "            URL = 'https://www.ft.com/search?expandRefinements=true&q='+query+'&concept=a39a4558-f562-4dca-8774-000246e6eebe&dateFrom='+Date.strftime(\"20%y-%m-%d\")+'&dateTo='+Date.strftime(\"20%y-%m-%d\")+'&page='+str(page)\n",
    "\n",
    "            #Request the URL and Retrieve the Headlines\n",
    "            raw_html = requests.get(URL, headers=Headers)\n",
    "            soup = BeautifulSoup(raw_html.text, 'html.parser')\n",
    "            headline_list = soup.find_all(\"div\", {\"class\": \"o-teaser__heading\"})\n",
    "\n",
    "            #Define the Date & Headline Lists\n",
    "            dates = []\n",
    "            headlines = []\n",
    "\n",
    "            #Loop through each element in the headline list (for that specific query)\n",
    "            for elem in headline_list:\n",
    "                titles = elem.findAll(text=True)\n",
    "                titles_string = ''.join(titles)\n",
    "                headlines.append(titles_string)   \n",
    "                \n",
    "            #Loop through each element in the headline list (for that specific query)\n",
    "            for elem in headline_list:\n",
    "                dates.append(Date)\n",
    "\n",
    "            #Create a new Dataframe that stores the data of this specific query\n",
    "            News = pd.DataFrame({'Date': dates, 'Headline': headlines})\n",
    "            \n",
    "            #Concatanate this dataframe with the one containing ALL Financial Times News\n",
    "            PD_Headers = pd.concat([PD_Headers, News])\n",
    "    \n",
    "#Remove any possible duplicates\n",
    "PD_Headers.drop_duplicates(['Headline'], keep='last')\n",
    "\n",
    "#Filter the Keywords\n",
    "PD_Headers = PD_Headers[PD_Headers['Headline'].str.contains('|'.join(filter_keywords), case=False)]\n",
    "\n",
    "#Extract the dataframe to a CSV file\n",
    "PD_Headers.to_csv('files/'+query_list[0]+'_News_FT.csv')"
   ]
  },
  {
   "cell_type": "markdown",
   "metadata": {},
   "source": [
    "### Combining ALL News Files into ONE"
   ]
  },
  {
   "cell_type": "code",
   "execution_count": 23,
   "metadata": {
    "scrolled": false
   },
   "outputs": [],
   "source": [
    "#Load all News sources\n",
    "BS_data = pd.read_csv('files/'+query_list[0]+'_News_BS.csv')\n",
    "FT_data = pd.read_csv('files/'+query_list[0]+'_News_FT.csv')\n",
    "NYTimes_data = pd.read_csv('files/'+query_list[0]+'_News_NYTimes.csv')\n",
    "\n",
    "#Set the Data Source to BS\n",
    "BS_data = BS_data.assign(Source='BS')\n",
    "BS_data = BS_data[['Date', 'Headline', 'Source']]\n",
    "\n",
    "#Set the Data Source to FT\n",
    "FT_data = FT_data.assign(Source='FT')\n",
    "FT_data = FT_data[['Date', 'Headline', 'Source']]\n",
    "\n",
    "#Set the Data Source to NYTimes\n",
    "NYTimes_data = NYTimes_data.assign(Source='NYTimes')\n",
    "NYTimes_data = NYTimes_data[['Date', 'Headline', 'Source']]\n",
    "\n",
    "#Concatenate all data together\n",
    "all_data = pd.concat([FT_data, NYTimes_data, BS_data])\n",
    "\n",
    "all_data.loc[:, 'Date'] = pd.to_datetime(all_data['Date'], format='%m/%d/%Y')\n",
    "\n",
    "#Remove any possible duplicates\n",
    "all_data.drop_duplicates(['Headline'], keep='last')\n",
    "\n",
    "#Extract the dataframe to a CSV file\n",
    "all_data.to_csv('files/'+query_list[0]+'_News_All.csv')"
   ]
  },
  {
   "cell_type": "markdown",
   "metadata": {},
   "source": [
    "### Histogram showing Headlines per Source"
   ]
  },
  {
   "cell_type": "code",
   "execution_count": 24,
   "metadata": {},
   "outputs": [
    {
     "data": {
      "text/plain": [
       "Text(0, 0.5, 'Frequency')"
      ]
     },
     "execution_count": 24,
     "metadata": {},
     "output_type": "execute_result"
    },
    {
     "data": {
      "image/png": "[encoded data removed]",
      "text/plain": [
       "<Figure size 432x288 with 1 Axes>"
      ]
     },
     "metadata": {
      "needs_background": "light"
     },
     "output_type": "display_data"
    }
   ],
   "source": [
    "AX = all_data['Source'].value_counts().plot(kind='bar')\n",
    "AX.set_xlabel('Source')\n",
    "AX.set_ylabel('Frequency')"
   ]
  }
 ],
 "metadata": {
  "kernelspec": {
   "display_name": "Python 3",
   "language": "python",
   "name": "python3"
  },
  "language_info": {
   "codemirror_mode": {
    "name": "ipython",
    "version": 3
   },
   "file_extension": ".py",
   "mimetype": "text/x-python",
   "name": "python",
   "nbconvert_exporter": "python",
   "pygments_lexer": "ipython3",
   "version": "3.7.7"
  }
 },
 "nbformat": 4,
 "nbformat_minor": 2
}
