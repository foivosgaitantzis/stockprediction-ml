{
 "cells": [
  {
   "cell_type": "markdown",
   "metadata": {},
   "source": [
    "# Linear Regression - By Foivos Gaitantzis"
   ]
  },
  {
   "cell_type": "markdown",
   "metadata": {},
   "source": [
    "#### This section of the program is dedicated to fitting all the features post processing to a Linear Regression Algorithm. An initial model is built using random hyperparametes. The hyperparameter values are then tweaked and a final model is built and evaluated. "
   ]
  },
  {
   "cell_type": "markdown",
   "metadata": {},
   "source": [
    "### Load the Libraries"
   ]
  },
  {
   "cell_type": "code",
   "execution_count": 1,
   "metadata": {},
   "outputs": [],
   "source": [
    "%matplotlib inline\n",
    "import matplotlib.pyplot as plt\n",
    "import pandas as pd\n",
    "import numpy as np\n",
    "import math\n",
    "from sklearn.linear_model import LinearRegression\n",
    "from sklearn.preprocessing import StandardScaler\n",
    "from sklearn.metrics import mean_squared_error\n",
    "from sklearn.model_selection import train_test_split\n",
    "from sklearn.preprocessing import PolynomialFeatures"
   ]
  },
  {
   "cell_type": "markdown",
   "metadata": {},
   "source": [
    "### Define the Feature Engineering/Machine Learning Parameters & Utility Functions"
   ]
  },
  {
   "cell_type": "code",
   "execution_count": 2,
   "metadata": {},
   "outputs": [],
   "source": [
    "#Set the filename\n",
    "filename = 'aapl'\n",
    "\n",
    "#Set the Default Columns, Timestep (Previous Historical Data to Use for Predictions) & Polynomial Degree\n",
    "Columns = ['Adj Close', 'compoundFT', 'compoundNYTimes', 'compoundBS', 'Volume', 'RSI', 'MACD']\n",
    "timestep = 3\n",
    "polynomial_degree = 1"
   ]
  },
  {
   "cell_type": "code",
   "execution_count": 3,
   "metadata": {},
   "outputs": [],
   "source": [
    "#Utility function to compute the mean absolute percentage error\n",
    "def mean_absolute_percentage_error(y_true, y_pred): \n",
    "    y_true, y_pred = np.array(y_true), np.array(y_pred)\n",
    "    return np.mean(np.abs((y_true-y_pred)/y_true))*100"
   ]
  },
  {
   "cell_type": "markdown",
   "metadata": {},
   "source": [
    "### Load the Data File & Perform Model Feature Engineering"
   ]
  },
  {
   "cell_type": "code",
   "execution_count": 4,
   "metadata": {},
   "outputs": [
    {
     "data": {
      "text/html": [
       "<div>\n",
       "<style scoped>\n",
       "    .dataframe tbody tr th:only-of-type {\n",
       "        vertical-align: middle;\n",
       "    }\n",
       "\n",
       "    .dataframe tbody tr th {\n",
       "        vertical-align: top;\n",
       "    }\n",
       "\n",
       "    .dataframe thead th {\n",
       "        text-align: right;\n",
       "    }\n",
       "</style>\n",
       "<table border=\"1\" class=\"dataframe\">\n",
       "  <thead>\n",
       "    <tr style=\"text-align: right;\">\n",
       "      <th></th>\n",
       "      <th>Date</th>\n",
       "      <th>compoundFT</th>\n",
       "      <th>compoundNYTimes</th>\n",
       "      <th>compoundBS</th>\n",
       "      <th>Close</th>\n",
       "      <th>Volume</th>\n",
       "      <th>Adj Close</th>\n",
       "      <th>RSI</th>\n",
       "      <th>MACD</th>\n",
       "      <th>Predicted Adj Close</th>\n",
       "      <th>Adj Close0</th>\n",
       "      <th>Adj Close1</th>\n",
       "      <th>Adj Close2</th>\n",
       "    </tr>\n",
       "  </thead>\n",
       "  <tbody>\n",
       "    <tr>\n",
       "      <th>7</th>\n",
       "      <td>2016-01-08</td>\n",
       "      <td>0.203480</td>\n",
       "      <td>0.043943</td>\n",
       "      <td>0.137486</td>\n",
       "      <td>96.959999</td>\n",
       "      <td>7.079800e+07</td>\n",
       "      <td>90.391907</td>\n",
       "      <td>14.668720</td>\n",
       "      <td>-0.370537</td>\n",
       "      <td>90.879794</td>\n",
       "      <td>90.391907</td>\n",
       "      <td>89.916473</td>\n",
       "      <td>93.878586</td>\n",
       "    </tr>\n",
       "    <tr>\n",
       "      <th>8</th>\n",
       "      <td>2016-01-09</td>\n",
       "      <td>0.377325</td>\n",
       "      <td>-0.008900</td>\n",
       "      <td>0.104625</td>\n",
       "      <td>97.483332</td>\n",
       "      <td>6.377847e+07</td>\n",
       "      <td>90.879794</td>\n",
       "      <td>14.832344</td>\n",
       "      <td>-0.384101</td>\n",
       "      <td>91.367681</td>\n",
       "      <td>90.879794</td>\n",
       "      <td>90.391907</td>\n",
       "      <td>89.916473</td>\n",
       "    </tr>\n",
       "    <tr>\n",
       "      <th>9</th>\n",
       "      <td>2016-01-10</td>\n",
       "      <td>0.515333</td>\n",
       "      <td>0.271481</td>\n",
       "      <td>0.135400</td>\n",
       "      <td>98.006666</td>\n",
       "      <td>5.675893e+07</td>\n",
       "      <td>91.367681</td>\n",
       "      <td>14.886746</td>\n",
       "      <td>-0.364081</td>\n",
       "      <td>91.855568</td>\n",
       "      <td>91.367681</td>\n",
       "      <td>90.879794</td>\n",
       "      <td>90.391907</td>\n",
       "    </tr>\n",
       "    <tr>\n",
       "      <th>10</th>\n",
       "      <td>2016-01-11</td>\n",
       "      <td>0.233810</td>\n",
       "      <td>0.375018</td>\n",
       "      <td>0.179233</td>\n",
       "      <td>98.529999</td>\n",
       "      <td>4.973940e+07</td>\n",
       "      <td>91.855568</td>\n",
       "      <td>14.913921</td>\n",
       "      <td>-0.321599</td>\n",
       "      <td>93.188705</td>\n",
       "      <td>91.855568</td>\n",
       "      <td>91.367681</td>\n",
       "      <td>90.879794</td>\n",
       "    </tr>\n",
       "    <tr>\n",
       "      <th>11</th>\n",
       "      <td>2016-01-12</td>\n",
       "      <td>0.155050</td>\n",
       "      <td>0.201992</td>\n",
       "      <td>0.397150</td>\n",
       "      <td>99.959999</td>\n",
       "      <td>4.915420e+07</td>\n",
       "      <td>93.188705</td>\n",
       "      <td>19.135019</td>\n",
       "      <td>-0.221146</td>\n",
       "      <td>90.792793</td>\n",
       "      <td>93.188705</td>\n",
       "      <td>91.855568</td>\n",
       "      <td>91.367681</td>\n",
       "    </tr>\n",
       "  </tbody>\n",
       "</table>\n",
       "</div>"
      ],
      "text/plain": [
       "         Date  compoundFT  compoundNYTimes  compoundBS      Close  \\\n",
       "7  2016-01-08    0.203480         0.043943    0.137486  96.959999   \n",
       "8  2016-01-09    0.377325        -0.008900    0.104625  97.483332   \n",
       "9  2016-01-10    0.515333         0.271481    0.135400  98.006666   \n",
       "10 2016-01-11    0.233810         0.375018    0.179233  98.529999   \n",
       "11 2016-01-12    0.155050         0.201992    0.397150  99.959999   \n",
       "\n",
       "          Volume  Adj Close        RSI      MACD  Predicted Adj Close  \\\n",
       "7   7.079800e+07  90.391907  14.668720 -0.370537            90.879794   \n",
       "8   6.377847e+07  90.879794  14.832344 -0.384101            91.367681   \n",
       "9   5.675893e+07  91.367681  14.886746 -0.364081            91.855568   \n",
       "10  4.973940e+07  91.855568  14.913921 -0.321599            93.188705   \n",
       "11  4.915420e+07  93.188705  19.135019 -0.221146            90.792793   \n",
       "\n",
       "    Adj Close0  Adj Close1  Adj Close2  \n",
       "7    90.391907   89.916473   93.878586  \n",
       "8    90.879794   90.391907   89.916473  \n",
       "9    91.367681   90.879794   90.391907  \n",
       "10   91.855568   91.367681   90.879794  \n",
       "11   93.188705   91.855568   91.367681  "
      ]
     },
     "execution_count": 4,
     "metadata": {},
     "output_type": "execute_result"
    }
   ],
   "source": [
    "#Load the Daily Stock Data\n",
    "Data = pd.read_csv('files/'+filename+'_Stock_Data_Full.csv')\n",
    "\n",
    "#Set the Date Column Type to Datetime\n",
    "Data['Date'] = pd.to_datetime(Data['Date'], format='%Y-%m-%d')\n",
    "\n",
    "#Create copies of the Data for Modification\n",
    "Data_Edit = Data.copy()\n",
    "Columns_Edit = Columns.copy()\n",
    "\n",
    "#Create new to columns of Historical Data according to the timestep\n",
    "for step in range(timestep):\n",
    "    Columns_Edit.append('Adj Close'+str(step))\n",
    "    Data_Edit['Adj Close'+str(step)] = Data_Edit['Adj Close']\n",
    "    Data_Edit['Adj Close'+str(step)] = Data_Edit['Adj Close'+str(step)].shift(step)\n",
    "\n",
    "#Remove all NaN values in Adj Close, Adj Close(0 - timestep), Predicted Adj Close, RSI and MACD\n",
    "Data_Edit.dropna(inplace = True)\n",
    "\n",
    "#Display the first 5 rows of the Modified Data Set\n",
    "Data_Edit.head()"
   ]
  },
  {
   "cell_type": "code",
   "execution_count": 5,
   "metadata": {},
   "outputs": [],
   "source": [
    "#Split the Data into Training and Testing (Train: 80% & Testing: 20%)\n",
    "train, test = train_test_split(Data_Edit, train_size = 0.8, test_size = 0.2, shuffle = False)\n",
    "\n",
    "#Initiate two Scalers: one for the inputs & one for the output\n",
    "ScalerX = StandardScaler()\n",
    "\n",
    "#Seperate the train & test dataset into their inputs and output & perform scaling\n",
    "x_train = ScalerX.fit_transform(train[Columns_Edit])\n",
    "y_train = train[['Predicted Adj Close']]\n",
    "x_test = ScalerX.transform(test[Columns_Edit])\n",
    "y_test = test[['Predicted Adj Close']]\n",
    "\n",
    "#Intiatize the Polynomial Features & apply it on the Model inputs\n",
    "Polynomial = PolynomialFeatures(degree=polynomial_degree)\n",
    "x_train = Polynomial.fit_transform(x_train)\n",
    "x_test = Polynomial.fit_transform(x_test)"
   ]
  },
  {
   "cell_type": "markdown",
   "metadata": {},
   "source": [
    "### Run the Primary Linear Regression Model using Default Parameters"
   ]
  },
  {
   "cell_type": "code",
   "execution_count": 6,
   "metadata": {
    "scrolled": true
   },
   "outputs": [
    {
     "name": "stdout",
     "output_type": "stream",
     "text": [
      "Accuracy: 0.9807114869939384\n",
      "RMSE: 2.818653419593127\n",
      "MAPE: 0.9381475643826316\n"
     ]
    },
    {
     "data": {
      "text/html": [
       "<div>\n",
       "<style scoped>\n",
       "    .dataframe tbody tr th:only-of-type {\n",
       "        vertical-align: middle;\n",
       "    }\n",
       "\n",
       "    .dataframe tbody tr th {\n",
       "        vertical-align: top;\n",
       "    }\n",
       "\n",
       "    .dataframe thead th {\n",
       "        text-align: right;\n",
       "    }\n",
       "</style>\n",
       "<table border=\"1\" class=\"dataframe\">\n",
       "  <thead>\n",
       "    <tr style=\"text-align: right;\">\n",
       "      <th></th>\n",
       "      <th>Date</th>\n",
       "      <th>Actual Value</th>\n",
       "      <th>Prediction</th>\n",
       "    </tr>\n",
       "  </thead>\n",
       "  <tbody>\n",
       "    <tr>\n",
       "      <th>877</th>\n",
       "      <td>2018-05-27</td>\n",
       "      <td>183.560894</td>\n",
       "      <td>183.623894</td>\n",
       "    </tr>\n",
       "    <tr>\n",
       "      <th>878</th>\n",
       "      <td>2018-05-28</td>\n",
       "      <td>183.394974</td>\n",
       "      <td>183.557902</td>\n",
       "    </tr>\n",
       "    <tr>\n",
       "      <th>879</th>\n",
       "      <td>2018-05-29</td>\n",
       "      <td>183.004562</td>\n",
       "      <td>183.346332</td>\n",
       "    </tr>\n",
       "    <tr>\n",
       "      <th>880</th>\n",
       "      <td>2018-05-30</td>\n",
       "      <td>182.389633</td>\n",
       "      <td>182.961889</td>\n",
       "    </tr>\n",
       "    <tr>\n",
       "      <th>881</th>\n",
       "      <td>2018-05-31</td>\n",
       "      <td>185.678833</td>\n",
       "      <td>182.310056</td>\n",
       "    </tr>\n",
       "  </tbody>\n",
       "</table>\n",
       "</div>"
      ],
      "text/plain": [
       "          Date  Actual Value  Prediction\n",
       "877 2018-05-27    183.560894  183.623894\n",
       "878 2018-05-28    183.394974  183.557902\n",
       "879 2018-05-29    183.004562  183.346332\n",
       "880 2018-05-30    182.389633  182.961889\n",
       "881 2018-05-31    185.678833  182.310056"
      ]
     },
     "execution_count": 6,
     "metadata": {},
     "output_type": "execute_result"
    }
   ],
   "source": [
    "#Initialize the Model\n",
    "Model = LinearRegression(n_jobs=-1)\n",
    "\n",
    "#Fit the Training Inputs and Output into the Model\n",
    "Model.fit(x_train, np.array(y_train).ravel())\n",
    "\n",
    "#Using the Test Inputs, Predict Values for Output\n",
    "Prediction = Model.predict(x_test)\n",
    "\n",
    "#Calculate the Root Mean Squared Error & the Mean Absolute Percentage Error\n",
    "RMSE = math.sqrt(mean_squared_error(test['Predicted Adj Close'], Prediction))\n",
    "MAPE = mean_absolute_percentage_error(test['Predicted Adj Close'], Prediction)\n",
    "\n",
    "#Print the values of Accuracy, RMSE & MAPE\n",
    "print(\"Accuracy: \"+str(Model.score(x_test, np.array(y_test).ravel())))\n",
    "print(\"RMSE: \"+str(RMSE))\n",
    "print(\"MAPE: \"+str(MAPE))\n",
    "\n",
    "#Create a Dataframe that stores the Date, the Actual Stock Value and the Predicted Stock Value\n",
    "Prediction = pd.DataFrame({'Date': test['Date'], 'Actual Value': test['Predicted Adj Close'], 'Prediction': Prediction})\n",
    "\n",
    "#Display the first 5 rows of this Dataframe\n",
    "Prediction.head()"
   ]
  },
  {
   "cell_type": "markdown",
   "metadata": {},
   "source": [
    "### Display Primary Model Predictions vs Actual Values"
   ]
  },
  {
   "cell_type": "code",
   "execution_count": 7,
   "metadata": {},
   "outputs": [
    {
     "data": {
      "image/png": "[encoded data removed]",
      "text/plain": [
       "<Figure size 1008x360 with 1 Axes>"
      ]
     },
     "metadata": {
      "needs_background": "light"
     },
     "output_type": "display_data"
    }
   ],
   "source": [
    "#Display a line graph of the Actual vs Predicted Values\n",
    "plt.rcParams['figure.figsize'] = 14, 5 \n",
    "AX = Prediction.plot(x='Date', y='Actual Value', style='g-', grid=True)\n",
    "AX = Prediction.plot(x='Date', y='Prediction', style='r-', grid=True, ax=AX)\n",
    "AX.legend(['Actual Value', 'Predicted Value'])\n",
    "AX.set_xlabel(\"Date\")\n",
    "AX.set_ylabel(\"USD\")\n",
    "plt.show()"
   ]
  },
  {
   "cell_type": "markdown",
   "metadata": {},
   "source": [
    "### Calculate the Optimal Columns Type"
   ]
  },
  {
   "cell_type": "code",
   "execution_count": 8,
   "metadata": {},
   "outputs": [
    {
     "name": "stdout",
     "output_type": "stream",
     "text": [
      "Optimal Parameter (Based on RMSE): Sentiment Analysis, RMSE: 2.7855719381812527\n"
     ]
    },
    {
     "data": {
      "text/html": [
       "<div>\n",
       "<style scoped>\n",
       "    .dataframe tbody tr th:only-of-type {\n",
       "        vertical-align: middle;\n",
       "    }\n",
       "\n",
       "    .dataframe tbody tr th {\n",
       "        vertical-align: top;\n",
       "    }\n",
       "\n",
       "    .dataframe thead th {\n",
       "        text-align: right;\n",
       "    }\n",
       "</style>\n",
       "<table border=\"1\" class=\"dataframe\">\n",
       "  <thead>\n",
       "    <tr style=\"text-align: right;\">\n",
       "      <th></th>\n",
       "      <th>RMSE</th>\n",
       "      <th>MAPE</th>\n",
       "    </tr>\n",
       "    <tr>\n",
       "      <th>Columns Type</th>\n",
       "      <th></th>\n",
       "      <th></th>\n",
       "    </tr>\n",
       "  </thead>\n",
       "  <tbody>\n",
       "    <tr>\n",
       "      <th>Just Historical Stock Data</th>\n",
       "      <td>2.789762</td>\n",
       "      <td>0.944860</td>\n",
       "    </tr>\n",
       "    <tr>\n",
       "      <th>Technical Analysis</th>\n",
       "      <td>2.826943</td>\n",
       "      <td>0.963696</td>\n",
       "    </tr>\n",
       "    <tr>\n",
       "      <th>Sentiment Analysis</th>\n",
       "      <td>2.785572</td>\n",
       "      <td>0.941622</td>\n",
       "    </tr>\n",
       "    <tr>\n",
       "      <th>Technical &amp; Sentiment Analysis</th>\n",
       "      <td>2.824755</td>\n",
       "      <td>0.962512</td>\n",
       "    </tr>\n",
       "  </tbody>\n",
       "</table>\n",
       "</div>"
      ],
      "text/plain": [
       "                                    RMSE      MAPE\n",
       "Columns Type                                      \n",
       "Just Historical Stock Data      2.789762  0.944860\n",
       "Technical Analysis              2.826943  0.963696\n",
       "Sentiment Analysis              2.785572  0.941622\n",
       "Technical & Sentiment Analysis  2.824755  0.962512"
      ]
     },
     "execution_count": 8,
     "metadata": {},
     "output_type": "execute_result"
    }
   ],
   "source": [
    "columns_list = [['Adj Close', 'Volume'], ['Adj Close', 'Volume', 'RSI', 'MACD'], ['Adj Close', 'Volume', 'compoundFT', 'compoundNYTimes'], Columns]\n",
    "columns_headers = ['Just Historical Stock Data', 'Technical Analysis', 'Sentiment Analysis', 'Technical & Sentiment Analysis']\n",
    "\n",
    "columns_errors = {'Columns' : [], 'Columns Type' : [], 'RMSE' : [], 'MAPE' : []}\n",
    "i = 0\n",
    "\n",
    "for column in columns_list:   \n",
    "    \n",
    "    Data_Edit = Data.copy()\n",
    "    for step in range(timestep):\n",
    "        Columns_Edit.append('Adj Close'+str(step))\n",
    "        Data_Edit['Adj Close'+str(step)] = Data_Edit['Adj Close']\n",
    "        Data_Edit['Adj Close'+str(step)] = Data_Edit['Adj Close'+str(step)].shift(step)\n",
    "    \n",
    "    #Remove all NaN values in Adj Close, Adj Close(0 - timestep), Predicted Adj Close, RSI and MACD\n",
    "    Data_Edit.dropna(inplace = True)\n",
    "    \n",
    "    #Split the Data into Training and Testing (Train: 80% & Testing: 20%)\n",
    "    train, test = train_test_split(Data_Edit, train_size = 0.8, test_size = 0.2, shuffle = False)\n",
    "\n",
    "    #Initiate two Scalers: one for the inputs & one for the output\n",
    "    ScalerX = StandardScaler()\n",
    "\n",
    "    #Seperate the train & test dataset into their inputs and output & perform scaling\n",
    "    x_train = ScalerX.fit_transform(train[column])\n",
    "    y_train = train[['Predicted Adj Close']]\n",
    "    x_test = ScalerX.transform(test[column])\n",
    "    y_test = test[['Predicted Adj Close']]\n",
    "    \n",
    "    #Intiatize the Polynomial Features & apply it on the Model inputs\n",
    "    Polynomial = PolynomialFeatures(degree=polynomial_degree)\n",
    "    x_train = Polynomial.fit_transform(x_train)\n",
    "    x_test = Polynomial.fit_transform(x_test)\n",
    "    \n",
    "    #Initialize the Model\n",
    "    Model = LinearRegression()\n",
    "\n",
    "    #Fit the Training Inputs and Output into the Model\n",
    "    Model.fit(x_train, np.array(y_train).ravel())\n",
    "    \n",
    "    #Using the Test Inputs, Predict Values for Output\n",
    "    Prediction = Model.predict(x_test)\n",
    "\n",
    "    #Print the values of Accuracy, RMSE & MAPE\n",
    "    RMSE = math.sqrt(mean_squared_error(test['Predicted Adj Close'], Prediction))\n",
    "    MAPE = mean_absolute_percentage_error(test['Predicted Adj Close'], Prediction)\n",
    "    \n",
    "    #Input the Columns, Columns Type & Errors to the Dataframe\n",
    "    columns_errors['Columns'].append(column)\n",
    "    columns_errors['Columns Type'].append(columns_headers[i])\n",
    "    columns_errors['RMSE'].append(RMSE)\n",
    "    columns_errors['MAPE'].append(MAPE)\n",
    "    \n",
    "    i+=1\n",
    "    \n",
    "columns_errors = pd.DataFrame(columns_errors)\n",
    "                              \n",
    "#Set the Data Column as Index Column\n",
    "columns_errors = columns_errors.set_index('Columns Type')\n",
    "\n",
    "#Print the Optimal Columns Type\n",
    "OptimalParameter = columns_errors[columns_errors['RMSE'] == columns_errors['RMSE'].min()]\n",
    "Columns = OptimalParameter['Columns'].values[0]\n",
    "print(\"Optimal Parameter (Based on RMSE): \"+str(OptimalParameter.index.values[0])+\", RMSE: \"+str(OptimalParameter['RMSE'].values[0]))\n",
    "\n",
    "#Show each Columns Type and Error Associated\n",
    "columns_errors[['RMSE', 'MAPE']].head()"
   ]
  },
  {
   "cell_type": "markdown",
   "metadata": {},
   "source": [
    "### Calculate the Optimal Timestep"
   ]
  },
  {
   "cell_type": "code",
   "execution_count": 9,
   "metadata": {},
   "outputs": [
    {
     "data": {
      "image/png": "[encoded data removed]",
      "text/plain": [
       "<Figure size 936x216 with 1 Axes>"
      ]
     },
     "metadata": {
      "needs_background": "light"
     },
     "output_type": "display_data"
    },
    {
     "name": "stdout",
     "output_type": "stream",
     "text": [
      "Optimal Parameter (Based on RMSE): 4, RMSE: 2.7829077212014925\n"
     ]
    }
   ],
   "source": [
    "timestep_list = range(3, 35)\n",
    "\n",
    "timestep_errors = {'Timestep' : [], 'RMSE' : [], 'MAPE' : []}\n",
    "\n",
    "for step in timestep_list:   \n",
    "    \n",
    "    Columns_Edit = Columns.copy()\n",
    "    Data_Edit = Data.copy()\n",
    "    for step_update in range(step):\n",
    "        Columns_Edit.append('Adj Close'+str(step_update))\n",
    "        Data_Edit['Adj Close'+str(step_update)] = Data_Edit['Adj Close']\n",
    "        Data_Edit['Adj Close'+str(step_update)] = Data_Edit['Adj Close'+str(step_update)].shift(step_update)\n",
    "\n",
    "    #Remove all NaN values in Adj Close, Adj Close(0 - timestep), Predicted Adj Close, RSI and MACD\n",
    "    Data_Edit.dropna(inplace = True)\n",
    "    \n",
    "    #Split the Data into Training and Testing (Train: 80% & Testing: 20%)\n",
    "    train, test = train_test_split(Data_Edit, train_size = 0.8, test_size = 0.2, shuffle = False)\n",
    "\n",
    "    #Initiate two Scalers: one for the inputs & one for the output\n",
    "    ScalerX = StandardScaler()\n",
    "\n",
    "    #Seperate the train & test dataset into their inputs and output & perform scaling\n",
    "    x_train = ScalerX.fit_transform(train[Columns_Edit])\n",
    "    y_train = train[['Predicted Adj Close']]\n",
    "    x_test = ScalerX.transform(test[Columns_Edit])\n",
    "    y_test = test[['Predicted Adj Close']]\n",
    "    \n",
    "    #Intiatize the Polynomial Features & apply it on the Model inputs\n",
    "    Polynomial = PolynomialFeatures(degree=polynomial_degree)\n",
    "    x_train = Polynomial.fit_transform(x_train)\n",
    "    x_test = Polynomial.fit_transform(x_test)\n",
    "    \n",
    "    #Initialize the Model\n",
    "    Model = LinearRegression()\n",
    "\n",
    "    #Fit the Training Inputs and Output into the Model\n",
    "    Model.fit(x_train, np.array(y_train).ravel())\n",
    "    \n",
    "    #Using the Test Inputs, Predict Values for Output\n",
    "    Prediction = Model.predict(x_test)\n",
    "\n",
    "    #Print the values of Accuracy, RMSE & MAPE\n",
    "    RMSE = math.sqrt(mean_squared_error(test['Predicted Adj Close'], Prediction))\n",
    "    MAPE = mean_absolute_percentage_error(test['Predicted Adj Close'], Prediction)\n",
    "    \n",
    "    #Input the Timestep & Errors to the Dataframe\n",
    "    timestep_errors['Timestep'].append(step)\n",
    "    timestep_errors['RMSE'].append(RMSE)\n",
    "    timestep_errors['MAPE'].append(MAPE)\n",
    "    \n",
    "timestep_errors = pd.DataFrame(timestep_errors)\n",
    "\n",
    "#Plot the Errors against the Timestep\n",
    "plt.rcParams['figure.figsize'] = 13, 3 \n",
    "AX = timestep_errors.plot(x='Timestep', y='RMSE', style='bx-', grid=True)\n",
    "AX = timestep_errors.plot(x='Timestep', y='MAPE', style='rx-', grid=True, ax=AX)\n",
    "AX.set_xlabel(\"Timestep Value (Days)\")\n",
    "AX.set_ylabel(\"RMSE / MAPE(%)\")\n",
    "plt.show()\n",
    "\n",
    "#Print the Optimal Timestep and Set it to the Default\n",
    "OptimalParameter = timestep_errors[timestep_errors['RMSE'] == timestep_errors['RMSE'].min()]\n",
    "timestep = OptimalParameter['Timestep'].values[0]\n",
    "print(\"Optimal Parameter (Based on RMSE): \"+str(OptimalParameter['Timestep'].values[0])+\", RMSE: \"+str(OptimalParameter['RMSE'].values[0]))"
   ]
  },
  {
   "cell_type": "markdown",
   "metadata": {},
   "source": [
    "### Calculate the Optimal Polynomial Degree"
   ]
  },
  {
   "cell_type": "code",
   "execution_count": 10,
   "metadata": {
    "scrolled": true
   },
   "outputs": [
    {
     "data": {
      "image/png": "[encoded data removed]",
      "text/plain": [
       "<Figure size 216x360 with 1 Axes>"
      ]
     },
     "metadata": {
      "needs_background": "light"
     },
     "output_type": "display_data"
    },
    {
     "name": "stdout",
     "output_type": "stream",
     "text": [
      "Optimal Parameter (Based on RMSE): 1, RMSE: 2.7829077212014925\n"
     ]
    }
   ],
   "source": [
    "polynomial_list = range(1, 5)\n",
    "\n",
    "polynomial_errors = {'Polynomial Degree' : [], 'RMSE' : [], 'MAPE' : []}\n",
    "\n",
    "for degree in polynomial_list:   \n",
    "    \n",
    "    Columns_Edit = Columns.copy()\n",
    "    Data_Edit = Data.copy()\n",
    "    for step in range(timestep):\n",
    "        Columns_Edit.append('Adj Close'+str(step))\n",
    "        Data_Edit['Adj Close'+str(step)] = Data_Edit['Adj Close']\n",
    "        Data_Edit['Adj Close'+str(step)] = Data_Edit['Adj Close'+str(step)].shift(step)\n",
    "\n",
    "    #Remove all NaN values in Adj Close, Adj Close(0 - timestep), Predicted Adj Close, RSI and MACD\n",
    "    Data_Edit.dropna(inplace = True)\n",
    "    \n",
    "    #Split the Data into Training and Testing (Train: 80% & Testing: 20%)\n",
    "    train, test = train_test_split(Data_Edit, train_size = 0.8, test_size = 0.2, shuffle = False)\n",
    "\n",
    "    #Initiate two Scalers: one for the inputs & one for the output\n",
    "    ScalerX = StandardScaler()\n",
    "    \n",
    "    #Seperate the train & test dataset into their inputs and output & perform scaling\n",
    "    x_train = ScalerX.fit_transform(train[Columns_Edit])\n",
    "    y_train = train[['Predicted Adj Close']]\n",
    "    x_test = ScalerX.transform(test[Columns_Edit])\n",
    "    y_test = test[['Predicted Adj Close']]\n",
    "    \n",
    "    #Intiatize the Polynomial Features & apply it on the Model inputs\n",
    "    Polynomial = PolynomialFeatures(degree=degree)\n",
    "    x_train = Polynomial.fit_transform(x_train)\n",
    "    x_test = Polynomial.fit_transform(x_test)\n",
    "    \n",
    "    #Initialize the Model\n",
    "    Model = LinearRegression()\n",
    "\n",
    "    #Fit the Training Inputs and Output into the Model\n",
    "    Model.fit(x_train, np.array(y_train).ravel())\n",
    "    \n",
    "    #Using the Test Inputs, Predict Values for Output\n",
    "    Prediction = Model.predict(x_test)\n",
    "\n",
    "    #Print the values of Accuracy, RMSE & MAPE\n",
    "    RMSE = math.sqrt(mean_squared_error(test['Predicted Adj Close'], Prediction))\n",
    "    MAPE = mean_absolute_percentage_error(test['Predicted Adj Close'], Prediction)\n",
    "    \n",
    "    #Input the Degree & Errors to the Dataframe\n",
    "    polynomial_errors['Polynomial Degree'].append(degree)\n",
    "    polynomial_errors['RMSE'].append(RMSE)\n",
    "    polynomial_errors['MAPE'].append(MAPE)\n",
    "    \n",
    "polynomial_errors = pd.DataFrame(polynomial_errors)\n",
    "\n",
    "#Plot the Errors against the Degree\n",
    "plt.rcParams['figure.figsize'] = 3, 5 \n",
    "AX = polynomial_errors.plot(x='Polynomial Degree', y='RMSE', style='bx-', grid=True)\n",
    "AX = polynomial_errors.plot(x='Polynomial Degree', y='MAPE', style='rx-', grid=True, ax=AX)\n",
    "AX.set_xlabel(\"Polynomial Degree\")\n",
    "AX.set_ylabel(\"RMSE / MAPE(%)\")\n",
    "plt.show()\n",
    "\n",
    "#Print the Optimal Degree and Set it to the Default\n",
    "OptimalParameter = polynomial_errors[polynomial_errors['RMSE'] == polynomial_errors['RMSE'].min()]\n",
    "polynomial_degree = OptimalParameter['Polynomial Degree'].values[0]\n",
    "print(\"Optimal Parameter (Based on RMSE): \"+str(OptimalParameter['Polynomial Degree'].values[0])+\", RMSE: \"+str(OptimalParameter['RMSE'].values[0]))"
   ]
  },
  {
   "cell_type": "markdown",
   "metadata": {},
   "source": [
    "### Final Model (including Feature Engineering)"
   ]
  },
  {
   "cell_type": "code",
   "execution_count": 11,
   "metadata": {},
   "outputs": [],
   "source": [
    "#Create copies of the Data for Modification\n",
    "Data_Edit = Data.copy()\n",
    "Columns_Edit = Columns.copy()\n",
    "\n",
    "#Create new to columns of Historical Data according to the timestep\n",
    "for step in range(timestep):\n",
    "    Columns_Edit.append('Adj Close'+str(step))\n",
    "    Data_Edit['Adj Close'+str(step)] = Data_Edit['Adj Close']\n",
    "    Data_Edit['Adj Close'+str(step)] = Data_Edit['Adj Close'+str(step)].shift(step)\n",
    "\n",
    "#Remove all NaN values in Adj Close, Adj Close(0 - timestep), Predicted Adj Close, RSI and MACD\n",
    "Data_Edit.dropna(inplace = True)\n",
    "\n",
    "#Split the Data into Training and Testing (Train: 80% & Testing: 20%)\n",
    "train, test = train_test_split(Data_Edit, train_size = 0.8, test_size = 0.2, shuffle = False)\n",
    "\n",
    "#Initiate two Scalers: one for the inputs & one for the output\n",
    "ScalerX = StandardScaler()\n",
    "\n",
    "#Seperate the train & test dataset into their inputs and output & perform scaling\n",
    "x_train = ScalerX.fit_transform(train[Columns_Edit])\n",
    "y_train = train[['Predicted Adj Close']]\n",
    "x_test = ScalerX.transform(test[Columns_Edit])\n",
    "y_test = test[['Predicted Adj Close']]\n",
    "\n",
    "#Intiatize the Polynomial Features & apply it on the Model inputs\n",
    "Polynomial = PolynomialFeatures(degree=polynomial_degree)\n",
    "x_train = Polynomial.fit_transform(x_train)\n",
    "x_test = Polynomial.fit_transform(x_test)"
   ]
  },
  {
   "cell_type": "code",
   "execution_count": 12,
   "metadata": {
    "scrolled": true
   },
   "outputs": [
    {
     "name": "stdout",
     "output_type": "stream",
     "text": [
      "Accuracy: 0.9811976123323733\n",
      "RMSE: 2.7829077212014925\n",
      "MAPE: 0.9164240474569563\n"
     ]
    },
    {
     "data": {
      "text/html": [
       "<div>\n",
       "<style scoped>\n",
       "    .dataframe tbody tr th:only-of-type {\n",
       "        vertical-align: middle;\n",
       "    }\n",
       "\n",
       "    .dataframe tbody tr th {\n",
       "        vertical-align: top;\n",
       "    }\n",
       "\n",
       "    .dataframe thead th {\n",
       "        text-align: right;\n",
       "    }\n",
       "</style>\n",
       "<table border=\"1\" class=\"dataframe\">\n",
       "  <thead>\n",
       "    <tr style=\"text-align: right;\">\n",
       "      <th></th>\n",
       "      <th>Date</th>\n",
       "      <th>Actual Value</th>\n",
       "      <th>Prediction</th>\n",
       "    </tr>\n",
       "  </thead>\n",
       "  <tbody>\n",
       "    <tr>\n",
       "      <th>877</th>\n",
       "      <td>2018-05-27</td>\n",
       "      <td>183.560894</td>\n",
       "      <td>183.709449</td>\n",
       "    </tr>\n",
       "    <tr>\n",
       "      <th>878</th>\n",
       "      <td>2018-05-28</td>\n",
       "      <td>183.394974</td>\n",
       "      <td>183.606060</td>\n",
       "    </tr>\n",
       "    <tr>\n",
       "      <th>879</th>\n",
       "      <td>2018-05-29</td>\n",
       "      <td>183.004562</td>\n",
       "      <td>183.392529</td>\n",
       "    </tr>\n",
       "    <tr>\n",
       "      <th>880</th>\n",
       "      <td>2018-05-30</td>\n",
       "      <td>182.389633</td>\n",
       "      <td>182.978926</td>\n",
       "    </tr>\n",
       "    <tr>\n",
       "      <th>881</th>\n",
       "      <td>2018-05-31</td>\n",
       "      <td>185.678833</td>\n",
       "      <td>182.343794</td>\n",
       "    </tr>\n",
       "  </tbody>\n",
       "</table>\n",
       "</div>"
      ],
      "text/plain": [
       "          Date  Actual Value  Prediction\n",
       "877 2018-05-27    183.560894  183.709449\n",
       "878 2018-05-28    183.394974  183.606060\n",
       "879 2018-05-29    183.004562  183.392529\n",
       "880 2018-05-30    182.389633  182.978926\n",
       "881 2018-05-31    185.678833  182.343794"
      ]
     },
     "execution_count": 12,
     "metadata": {},
     "output_type": "execute_result"
    }
   ],
   "source": [
    "#Initialize the Model\n",
    "Model = LinearRegression(n_jobs=-1)\n",
    "\n",
    "#Fit the Training Inputs and Output into the Model\n",
    "Model.fit(x_train, np.array(y_train).ravel())\n",
    "\n",
    "#Using the Test Inputs, Predict Values for Output\n",
    "Prediction = Model.predict(x_test)\n",
    "\n",
    "#Calculate the Root Mean Squared Error & the Mean Absolute Percentage Error\n",
    "RMSE = math.sqrt(mean_squared_error(test['Predicted Adj Close'], Prediction))\n",
    "MAPE = mean_absolute_percentage_error(test['Predicted Adj Close'], Prediction)\n",
    "\n",
    "#Print the values of Accuracy, RMSE & MAPE\n",
    "print(\"Accuracy: \"+str(Model.score(x_test, np.array(y_test).ravel())))\n",
    "print(\"RMSE: \"+str(RMSE))\n",
    "print(\"MAPE: \"+str(MAPE))\n",
    "\n",
    "#Create a Dataframe that stores the Date, the Actual Stock Value and the Predicted Stock Value\n",
    "Prediction = pd.DataFrame({'Date': test['Date'], 'Actual Value': test['Predicted Adj Close'], 'Prediction': Prediction})\n",
    "\n",
    "#Display the first 5 rows of this Dataframe\n",
    "Prediction.head()"
   ]
  },
  {
   "cell_type": "markdown",
   "metadata": {},
   "source": [
    "### Display Final Model Predictions vs Actual Values"
   ]
  },
  {
   "cell_type": "code",
   "execution_count": 75,
   "metadata": {},
   "outputs": [
    {
     "data": {
      "image/png": "[encoded data removed]",
      "text/plain": [
       "<Figure size 1008x360 with 1 Axes>"
      ]
     },
     "metadata": {
      "needs_background": "light"
     },
     "output_type": "display_data"
    }
   ],
   "source": [
    "#Display a line graph of the Actual vs Predicted Values\n",
    "plt.rcParams['figure.figsize'] = 14, 5 \n",
    "AX = Prediction.plot(x='Date', y='Actual Value', style='g-', grid=True)\n",
    "AX = Prediction.plot(x='Date', y='Prediction', style='r-', grid=True, ax=AX)\n",
    "AX.legend(['Actual Value', 'Predicted Value'])\n",
    "AX.set_xlabel(\"Date\")\n",
    "AX.set_ylabel(\"USD\")\n",
    "plt.show()"
   ]
  }
 ],
 "metadata": {
  "kernelspec": {
   "display_name": "Python 3",
   "language": "python",
   "name": "python3"
  },
  "language_info": {
   "codemirror_mode": {
    "name": "ipython",
    "version": 3
   },
   "file_extension": ".py",
   "mimetype": "text/x-python",
   "name": "python",
   "nbconvert_exporter": "python",
   "pygments_lexer": "ipython3",
   "version": "3.7.7"
  }
 },
 "nbformat": 4,
 "nbformat_minor": 2
}
